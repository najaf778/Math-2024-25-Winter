{
  "nbformat": 4,
  "nbformat_minor": 0,
  "metadata": {
    "colab": {
      "provenance": [],
      "authorship_tag": "ABX9TyO8zi6rtqIrp0aCw7eNHVqi",
      "include_colab_link": true
    },
    "kernelspec": {
      "name": "python3",
      "display_name": "Python 3"
    },
    "language_info": {
      "name": "python"
    }
  },
  "cells": [
    {
      "cell_type": "markdown",
      "metadata": {
        "id": "view-in-github",
        "colab_type": "text"
      },
      "source": [
        "<a href=\"https://colab.research.google.com/github/najaf778/Math-2024-25-Winter/blob/main/Notebooks_EN/03_Calculus/19_Limits_of_Sequences.ipynb\" target=\"_parent\"><img src=\"https://colab.research.google.com/assets/colab-badge.svg\" alt=\"Open In Colab\"/></a>"
      ]
    },
    {
      "cell_type": "markdown",
      "source": [
        "Limits of Sequences\n",
        "\n",
        "1. Calculate:\n",
        "   - $\\displaystyle \\lim_{n \\to \\infty} \\frac{n^2 + 3n}{2 n^2 - 2n}$\n",
        "\n",
        "   - $\\displaystyle \\lim_{n \\to \\infty} \\frac{(2n+3)^3}{n^3-1}$\n",
        "\n",
        "2. Prove using the squeeze theorem:\n",
        "   - $\\displaystyle\\lim_{n \\to \\infty} \\frac{\\sin(n)}{n}$\n",
        "\n",
        "4. Find the limit of the sequence:\n",
        "   - $a_n = (1+\\frac{1}{n})^n$\n"
      ],
      "metadata": {
        "id": "UfwwnE0gN_YF"
      }
    },
    {
      "cell_type": "markdown",
      "source": [
        "## **Problem 1**\n",
        "- $$\\displaystyle \\lim_{n \\to \\infty} \\frac{n^2 + 3n}{2 n^2 - 2n}$$\n",
        "\n",
        "1) $ \\frac{n^2 + 3n}{2n^2 - 2n} = \\frac{\\frac{n^2}{n^2} + \\frac{3n}{n^2}}{\\frac{2n^2}{n^2} - \\frac{2n}{n^2}} $\n",
        "   = $\\frac{1 + \\frac{3}{n}}{2 - \\frac{2}{n}}$\n",
        "\n",
        "2) As $n \\to \\infty$, the terms $\\frac{3}{n} \\to 0$ and $\\frac{2}{n} \\to 0$, leaving:\n",
        "\n",
        "$\n",
        "\\frac{1 + 0}{2 - 0} = \\frac{1}{2}\n",
        "$\n",
        "\n",
        "### Final Solution:\n",
        "\n",
        "$\n",
        "\\displaystyle \\lim_{n \\to \\infty} \\frac{n^2 + 3n}{2n^2 - 2n} = \\frac{1}{2}\n",
        "$\n",
        "\n",
        "- $\\displaystyle \\lim_{n \\to \\infty} \\frac{(2n+3)^3}{n^3-1}$\n",
        "\n",
        "\n",
        "$1) (2n+3)^3 = 8n^3 + 12n^2 \\cdot 3 + 6n \\cdot 9 + 27 = 8n^3 + 36n^2 + 54n + 27$\n",
        "\n",
        "Thus, the limit becomes:\n",
        "\n",
        "$\\displaystyle \\lim_{n \\to \\infty} \\frac{8n^3 + 36n^2 + 54n + 27}{n^3 - 1}$\n",
        "\n",
        "$2)\\frac{8n^3 + 36n^2 + 54n + 27}{n^3 - 1} = \\frac{\\frac{8n^3}{n^3} + \\frac{36n^2}{n^3} + \\frac{54n}{n^3} + \\frac{27}{n^3}}{\\frac{n^3}{n^3} - \\frac{1}{n^3}}$\n",
        "= $\\frac{8 + \\frac{36}{n} + \\frac{54}{n^2} + \\frac{27}{n^3}}{1 - \\frac{1}{n^3}}$\n",
        "\n",
        "3) As $n \\to \\infty$, all terms with $n$ in the denominator approach zero, leaving:\n",
        "\n",
        "$\\frac{8 + 0 + 0 + 0}{1 - 0} = 8$\n",
        "\n",
        "### Final Answer:\n",
        "$$\\displaystyle \\lim_{n \\to \\infty} \\frac{(2n+3)^3}{n^3-1} = 8$$\n",
        "\n",
        "---\n",
        "\n",
        "## **Problem 2**\n",
        "- $$\\displaystyle \\lim_{n \\to \\infty} \\frac{\\sin(n)}{n}$$\n",
        "\n",
        "### 1) Determine bounds for $\\sin(n)$\n",
        "Since $\\sin(n)$ is constrained between -1 and 1 for all real \\(n\\), we have:\n",
        "\n",
        "$-1 \\leq \\sin(n) \\leq 1$\n",
        "\n",
        "### 2) Divide the inequality by $n$\n",
        "Since $n > 0$ for sufficiently large $n$, divide the entire inequality by $n$:\n",
        "\n",
        "$-\\frac{1}{n} \\leq \\frac{\\sin(n)}{n} \\leq \\frac{1}{n}$\n",
        "\n",
        "### 3) Take the Limit of the Bounding Functions\n",
        "$\\lim_{n \\to \\infty} -\\frac{1}{n} = 0$\n",
        "\n",
        "$\\lim_{n \\to \\infty} \\frac{1}{n} = 0$\n",
        "\n",
        "### 4) Apply the Squeeze Theorem\n",
        "Since:\n",
        "\n",
        "$-\\frac{1}{n} \\leq \\frac{\\sin(n)}{n} \\leq \\frac{1}{n}$,\n",
        "$ we conclude that: $\n",
        "\n",
        "$$\\lim_{n \\to \\infty} \\frac{\\sin(n)}{n} = 0$$\n",
        "\n",
        "---\n",
        "\n",
        "## **Problem 3**\n",
        "- $a_{n}=(1+ \\frac{1}{n})^n$\n",
        "\n",
        "From the definition of the exponential limit, we know that:\n",
        "\n",
        "$$\n",
        "\\displaystyle \\lim_{n \\to \\infty} \\left( 1 + \\frac{1}{n} \\right)^n = e\n",
        "$$\n",
        "\n",
        "Thus, we conclude:\n",
        "\n",
        "$\n",
        "\\displaystyle \\lim_{n \\to \\infty} a_n = e\n",
        "$\n",
        "\n"
      ],
      "metadata": {
        "id": "2GUlUsVuOA63"
      }
    }
  ]
}