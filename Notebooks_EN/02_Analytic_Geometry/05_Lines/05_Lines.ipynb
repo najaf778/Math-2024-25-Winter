{
  "nbformat": 4,
  "nbformat_minor": 0,
  "metadata": {
    "colab": {
      "provenance": [],
      "authorship_tag": "ABX9TyMdLW4s58SnyEJK05jebvMR",
      "include_colab_link": true
    },
    "kernelspec": {
      "name": "python3",
      "display_name": "Python 3"
    },
    "language_info": {
      "name": "python"
    }
  },
  "cells": [
    {
      "cell_type": "markdown",
      "metadata": {
        "id": "view-in-github",
        "colab_type": "text"
      },
      "source": [
        "<a href=\"https://colab.research.google.com/github/najaf778/Math-2024-25-Winter/blob/main/Notebooks_EN/02_Analytic_Geometry/05_Lines/05_Lines.ipynb\" target=\"_parent\"><img src=\"https://colab.research.google.com/assets/colab-badge.svg\" alt=\"Open In Colab\"/></a>"
      ]
    },
    {
      "cell_type": "markdown",
      "source": [
        "# Exercise\n",
        "* The line passes through points $A(1, 2)$ and $B(3, 4)$. Find the equation of the line.\n",
        "* The line passes through point $A(1, 2)$ and is parallel to the line $y = 2x + 3$. Find the equation of the line.\n",
        "* The line passes through point $A(1, 2)$ and is perpendicular to the line $y = 2x + 3$. Find the equation of the line.\n",
        "* We have two lines $y = 2x + 3$ and $y = 3x + 2$. Find the intersection point of these lines and calculate the angle between them.\n",
        "* Write the equation of the line passing through point $A(1, 2)$ and parallel to the vector $\\vec{v} = [2, 3]$.\n",
        "* We have the line $y = 2x + 3$. Find an example of a line perpendicular and parallel to it.\n",
        "* We have the line $y = 2x + 3$ and point $A(1, 2)$. Find the distance from point $A$ to the line.\n",
        "* The line intersects the coordinate axes at points $A(2, 0)$ and $B(0, 3)$. Find the equation of the line.\n",
        "* Calculate the angle between the line $y = x + 3$ and the $Ox$ axis.\n",
        "* Provide a vector perpendicular to the line $x + y + 1 = 0$."
      ],
      "metadata": {
        "id": "WGMNudOSpsbe"
      }
    },
    {
      "cell_type": "markdown",
      "source": [
        "# Homework Solutions\n",
        "\n",
        "## Exercise 1: Line Equation Through Points $ A(1, 2) $ and $ B(3, 4) $\n",
        "1. the slope $ m $:\n",
        "   $\n",
        "   m = \\frac{y_2 - y_1}{x_2 - x_1} = \\frac{4 - 2}{3 - 1} = 1\n",
        "   $\n",
        "2. point-slope form $ y - y_1 = m(x - x_1) $:\n",
        "   $\n",
        "   y - 2 = 1(x - 1)\n",
        "   $\n",
        "3. Simplifying:\n",
        "   $\n",
        "   y - 2 = x - 1 \\implies y = x + 1\n",
        "   $\n",
        "\n",
        "## Exercise 2: Line Parallel to $ y = 2x + 3 $ Through Point $ A(1, 2) $\n",
        "1. parallel lines have the same slope $ m = 2 $.\n",
        "2. using point-slope form $ y - y_1 = m(x - x_1) $:\n",
        "   $\n",
        "   y - 2 = 2(x - 1)\n",
        "   $\n",
        "3. simplifying:\n",
        "   $\n",
        "   y - 2 = 2x - 2 \\implies y = 2x\n",
        "   $\n",
        "\n",
        "## Exercise 3: Line Perpendicular to $ y = 2x + 3 $ Through Point $ A(1, 2) $\n",
        "1. perpendicular slope $ m = -\\frac{1}{m_{\\text{given}}} = -\\frac{1}{2} $.\n",
        "2. using point-slope form $ y - y_1 = m(x - x_1) $:\n",
        "   $\n",
        "   y - 2 = -\\frac{1}{2}(x - 1)\n",
        "   $\n",
        "3. simplifying:\n",
        "   $\n",
        "   y - 2 = -\\frac{1}{2}x + \\frac{1}{2}\n",
        "   $\n",
        "4. Final:\n",
        "   $\n",
        "   y = -\\frac{1}{2}x + \\frac{5}{2}\n",
        "   $\n"
      ],
      "metadata": {
        "id": "GeyMVEITqVIi"
      }
    },
    {
      "cell_type": "markdown",
      "source": [
        "## Exercise 4: Intersection of $y = 2x + 3$ and $y = 3x + 2$\n",
        "1. Set the equations equal:  \n",
        "   $2x + 3 = 3x + 2$\n",
        "2. Solving for $x$:  \n",
        "   $x = 1$\n",
        "3. Substituting $x = 1$ into either equation:  \n",
        "   $y = 2(1) + 3 = 5$\n",
        "4. Intersection point:  \n",
        "   $(1, 5)$\n",
        "\n",
        "## Exercise 5: Line Parallel to Vector $\\vec{v} = [2, 3]$ Through $A(1, 2)$\n",
        "1. parametric form:  \n",
        "   $t = \\frac{x - 1}{2}$\n",
        "2. Solving for $y$:  \n",
        "   $y = 2 + 3t = 2 + 3\\left(\\frac{x - 1}{2}\\right)$\n",
        "3. Simplifying:  \n",
        "   $y = \\frac{3x + 1}{2}$\n",
        "\n",
        "## Exercise 6: Line Parallel/Perpendicular to $y = 2x + 3$ Through $P(1, 1)$\n",
        "### Parallel Line\n",
        "1. Slope $m = 2$.  \n",
        "2. Point-slope form:  \n",
        "   $y - 1 = 2(x - 1)$\n",
        "3. Simplifying:  \n",
        "   $y = 2x - 1$\n",
        "\n",
        "### Perpendicular Line\n",
        "1. Perpendicular slope $m = -\\frac{1}{2}$.  \n",
        "2. Point-slope form:  \n",
        "   $y - 1 = -\\frac{1}{2}(x - 1)$\n",
        "3. Simplifying:  \n",
        "   $y = -\\frac{1}{2}x + \\frac{3}{2}$\n",
        "\n",
        "## Exercise 7: Distance Between $A(1, 2)$ and Line $y = 2x + 3$\n",
        "1. Rewriting as standard form:  \n",
        "   $-2x + y - 3 = 0 \\quad (A = -2, B = 1, C = -3)$\n",
        "2. Using distance formula:  \n",
        "   $\\text{Distance} = \\frac{|Ax_1 + By_1 + C|}{\\sqrt{A^2 + B^2}}$\n",
        "3. Substituting:  \n",
        "   $\\text{Distance} = \\frac{|-2(1) + 2 - 3|}{\\sqrt{(-2)^2 + 1^2}} = \\frac{|-3|}{\\sqrt{5}} = \\frac{3}{\\sqrt{5}}$\n",
        "4. Simplifying:  \n",
        "   $\\text{Distance} = \\frac{3\\sqrt{5}}{5}$\n",
        "\n",
        "## Exercise 8: Line Through $A(2, 0)$ and $B(0, 3)$\n",
        "1. Slope $m = \\frac{3 - 0}{0 - 2} = -\\frac{3}{2}$.  \n",
        "2. Use point-slope form:  \n",
        "   $y - 0 = -\\frac{3}{2}(x - 2)$\n",
        "3. Simplifying:  \n",
        "   $y = -\\frac{3}{2}x + 3$\n",
        "\n",
        "## Exercise 9: Angle of $y = x + 3$ With Positive $x$-Axis\n",
        "1. Slope $m = 1$.  \n",
        "2. Using $\\tan(\\theta) = |m|$:  \n",
        "   $\\tan(\\theta) = 1$\n",
        "3. Solving for $\\theta$:  \n",
        "   $\\theta = \\tan^{-1}(1) = 45^\\circ$\n",
        "\n",
        "## Exercise 10: Perpendicular Vector to $x + y + 1 = 0$\n",
        "1. Line's normal vector is $\\langle A, B \\rangle = \\langle 1, 1 \\rangle$.  \n",
        "2. A perpendicular vector is parallel to $\\langle 1, 1 \\rangle$.  \n",
        "   $\\vec{n} = \\langle 1, 1 \\rangle$\n"
      ],
      "metadata": {
        "id": "h-XtRlI2r8xA"
      }
    }
  ]
}