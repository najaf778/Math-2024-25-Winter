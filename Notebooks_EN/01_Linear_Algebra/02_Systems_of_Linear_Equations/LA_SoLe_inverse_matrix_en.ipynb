{
  "cells": [
    {
      "cell_type": "markdown",
      "metadata": {
        "id": "view-in-github",
        "colab_type": "text"
      },
      "source": [
        "<a href=\"https://colab.research.google.com/github/najaf778/Math-2024-25-Winter/blob/main/Notebooks_EN/01_Linear_Algebra/02_Systems_of_Linear_Equations/LA_SoLe_inverse_matrix_en.ipynb\" target=\"_parent\"><img src=\"https://colab.research.google.com/assets/colab-badge.svg\" alt=\"Open In Colab\"/></a>"
      ]
    },
    {
      "cell_type": "markdown",
      "metadata": {
        "id": "o0fUL2Tz03fm"
      },
      "source": [
        "# Solving Systems of Linear Equations Using the Inverse Matrix Method\n",
        "\n",
        "Converting a system of linear equations to matrix form allows the use of the inverse matrix to find the solution.\n",
        "\n",
        "As an example, consider $A \\cdot X = B$, where the matrix $A_{n \\times n}$ is square and non-singular, and $X$ and $B$ are column matrices:\n",
        "\n",
        "$$\n",
        "X = \\begin{bmatrix} x_1 \\\\ x_2 \\\\ \\vdots \\\\ x_n \\end{bmatrix}, \\qquad B = \\begin{bmatrix} b_1 \\\\ b_2 \\\\ \\vdots \\\\ b_n \\end{bmatrix}\n",
        "$$\n",
        "\n",
        "The solution of the system can be found by multiplying the inverse of $A$ by $B$ on the left side:\n",
        "\n",
        "$$(A^{-1} \\cdot A) \\cdot X = A^{-1} \\cdot B$$\n",
        "\n",
        "$$1 \\cdot X = A^{-1} \\cdot B$$\n",
        "\n",
        "$$X = A^{-1} \\cdot B$$\n",
        "\n",
        "**Example**\n",
        "\n",
        "Consider the system of equations:\n",
        "\n",
        "$$\n",
        "\\begin{cases}\n",
        "x + 2z = 3, \\\\\n",
        "2x + 3y + z = 0, \\\\\n",
        "x + 3z = 1.\n",
        "\\end{cases}\n",
        "$$\n",
        "\n",
        "First, write the system of equations in matrix form:\n",
        "\n",
        "$$\n",
        "\\begin{cases}\n",
        "1 \\cdot x + 0 \\cdot y + 2 \\cdot z = 3, \\\\\n",
        "2 \\cdot x + 3 \\cdot y + 1 \\cdot z = 0, \\\\\n",
        "1 \\cdot x + 0 \\cdot y + 3 \\cdot z = 1.\n",
        "\\end{cases}\n",
        "$$\n",
        "\n",
        "$$\n",
        "\\begin{bmatrix}\n",
        "1 & 0 & 2 \\\\\n",
        "2 & 3 & 1 \\\\\n",
        "1 & 0 & 3\n",
        "\\end{bmatrix}\n",
        "\\begin{bmatrix}\n",
        "x \\\\\n",
        "y \\\\\n",
        "z\n",
        "\\end{bmatrix}\n",
        "=\n",
        "\\begin{bmatrix}\n",
        "3 \\\\\n",
        "0 \\\\\n",
        "1\n",
        "\\end{bmatrix}\n",
        "$$\n",
        "\n",
        "Solve the system by multiplying by the inverse matrix (on the correct side!):\n",
        "\n",
        "$$\n",
        "\\begin{bmatrix}\n",
        "x \\\\\n",
        "y \\\\\n",
        "z\n",
        "\\end{bmatrix}\n",
        "=\n",
        "\\begin{bmatrix}\n",
        "1 & 0 & 2 \\\\\n",
        "2 & 3 & 1 \\\\\n",
        "1 & 0 & 3\n",
        "\\end{bmatrix}^{-1}\n",
        "\\begin{bmatrix}\n",
        "3 \\\\\n",
        "0 \\\\\n",
        "1\n",
        "\\end{bmatrix}\n",
        "$$\n",
        "\n",
        "Calculate the inverse matrix:\n",
        "\n",
        "$$\n",
        "\\begin{bmatrix}\n",
        "1 & 0 & 2 \\\\\n",
        "2 & 3 & 1 \\\\\n",
        "1 & 0 & 3\n",
        "\\end{bmatrix}^{-1}\n",
        "=\n",
        "\\begin{bmatrix}\n",
        " 4 &  0 & -2 \\\\\n",
        "-3 &  1 &  1 \\\\\n",
        "-1 &  0 &  1\n",
        "\\end{bmatrix}\n",
        "$$\n",
        "\n",
        "Multiply the matrices:\n",
        "\n",
        "$$\n",
        "\\begin{bmatrix}\n",
        "x \\\\\n",
        "y \\\\\n",
        "z\n",
        "\\end{bmatrix}\n",
        "=\n",
        "\\begin{bmatrix}\n",
        " 4 &  0 & -2 \\\\\n",
        "-3 &  1 &  1 \\\\\n",
        "-1 &  0 &  1\n",
        "\\end{bmatrix}\n",
        "\\begin{bmatrix}\n",
        "3 \\\\\n",
        "0 \\\\\n",
        "1\n",
        "\\end{bmatrix}\n",
        "=\n",
        "\\begin{bmatrix}\n",
        "7 \\\\\n",
        "-4 \\\\\n",
        "-2\n",
        "\\end{bmatrix}\n",
        "$$"
      ]
    },
    {
      "cell_type": "code",
      "execution_count": null,
      "metadata": {
        "id": "hqQBa0Xt03fn",
        "outputId": "715fe522-9bc1-496d-9ea8-495e9fd42b0b"
      },
      "outputs": [
        {
          "data": {
            "text/latex": [
              "$\\displaystyle \\left[\\begin{matrix}7\\\\-4\\\\-2\\end{matrix}\\right]$"
            ],
            "text/plain": [
              "Matrix([\n",
              "[ 7],\n",
              "[-4],\n",
              "[-2]])"
            ]
          },
          "execution_count": 1,
          "metadata": {},
          "output_type": "execute_result"
        }
      ],
      "source": [
        "# ## Solving Systems of Linear Equations Using the Inverse Matrix Method\n",
        "\n",
        "import sympy as sp\n",
        "\n",
        "# Coefficient matrix\n",
        "A = sp.Matrix([\n",
        "    [1, 0, 2],\n",
        "    [2, 3, 1],\n",
        "    [1, 0, 3]\n",
        "])\n",
        "\n",
        "# Constant terms vector\n",
        "B =  sp.Matrix([\n",
        "    [3],\n",
        "    [0],\n",
        "    [1]\n",
        "])\n",
        "# Inverse matrix\n",
        "A_inv = A.inv()\n",
        "\n",
        "# Solution of the system of equations\n",
        "X = A_inv * B\n",
        "X"
      ]
    },
    {
      "cell_type": "markdown",
      "metadata": {
        "id": "8pMbWnd803fo"
      },
      "source": [
        "---\n",
        "\n",
        "## Exercises for Students\n",
        "\n",
        "1. Solve the system of linear equations using the inverse matrix method:\n",
        "\n",
        "$$\n",
        "\\begin{cases}\n",
        "x + 2y + 3z = 5, \\\\\n",
        "2y + 3z = 4, \\\\\n",
        "3z = 3.\n",
        "\\end{cases}\n",
        "$$\n",
        "\n",
        "2. Solve the system of linear equations using the inverse matrix method:\n",
        "\n",
        "$$\n",
        "\\begin{cases}\n",
        "x_1 + 2x_2 + 3x_3 = 41, \\\\\n",
        "4x_1 + 5x_2 + 6x_3 = 93, \\\\\n",
        "7x_1 + 8x_2 + 9x_3 = 145.\n",
        "\\end{cases}\n",
        "$$"
      ]
    },
    {
      "cell_type": "markdown",
      "source": [
        "# ***Homework***\n",
        "## **Exercise 1**\n",
        "$$\n",
        "\\begin{cases}\n",
        "x + 2y + 3z = 5, \\\\\n",
        "2y + 3z = 4, \\\\\n",
        "3z = 3.\n",
        "\\end{cases}\n",
        "$$\n",
        "$\n",
        "   A = \\begin{pmatrix}\n",
        "   1 & 2 & 3 \\\\\n",
        "   0 & 2 & 3 \\\\\n",
        "   0 & 0 & 3\n",
        "   \\end{pmatrix},\n",
        "   X = \\begin{pmatrix}\n",
        "   x \\\\\n",
        "   y \\\\\n",
        "   z\n",
        "   \\end{pmatrix},\n",
        "   B = \\begin{pmatrix}\n",
        "   5 \\\\\n",
        "   4 \\\\\n",
        "   3\n",
        "   \\end{pmatrix}\n",
        "$\n",
        "$A \\cdot X = C$\n",
        "\n",
        "$A^{-1} \\cdot A \\cdot X = A^{-1} \\cdot C$\n",
        "\n",
        "$X = A^{-1} \\cdot C$\n",
        "\n",
        "$A^{-1} = \\frac{1}{\\text{det}(A)} \\cdot \\begin{bmatrix} 1 & 2 & 3 \\\\ 0 & 2 & 3 \\\\ 0 & 0 & 3 \\end{bmatrix}$\n",
        "\n",
        "$\\text{det}(A) = 0 - 0 + 3 \\cdot \\begin{bmatrix} 1 & 2 \\\\ 0 & 2 \\end{bmatrix} = 6$\n",
        "\n",
        "$A^{-1} = \\frac{1}{6} \\cdot \\begin{bmatrix} 6 & -6 & 0 \\\\ 0 & 3 & -3 \\\\ 0 & 0 & 2 \\end{bmatrix} = \\begin{bmatrix} 1 & -1 & 0 \\\\ 0 & \\frac{1}{2} & -\\frac{1}{2} \\\\ 0 & 0 & \\frac{1}{3} \\end{bmatrix}$\n",
        "\n",
        "$X = \\begin{bmatrix} 1 & -1 & 0 \\\\ 0 & \\frac{1}{2} & -\\frac{1}{2} \\\\ 0 & 0 & \\frac{1}{3} \\end{bmatrix} \\cdot \\begin{bmatrix} 5 \\\\ 4 \\\\ 3 \\end{bmatrix} = \\begin{bmatrix} 1 \\\\ \\frac{1}{2} \\\\ 1 \\end{bmatrix}$\n",
        "\n",
        "$x = 1, y = \\frac{1}{2}, z = 1$\n"
      ],
      "metadata": {
        "id": "hzvHQPMb1v6e"
      }
    },
    {
      "cell_type": "markdown",
      "source": [
        "## **Exercise 2**\n",
        "\n",
        "$$\n",
        "\\begin{cases}\n",
        "x_1 + 2x_2 + 3x_3 = 41, \\\\\n",
        "4x_1 + 5x_2 + 6x_3 = 93, \\\\\n",
        "7x_1 + 8x_2 + 9x_3 = 145.\n",
        "\\end{cases}\n",
        "$$\n",
        "\n",
        "$$\n",
        "\\begin{bmatrix} 1 & 2 & 3 \\\\ 4 & 5 & 6 \\\\ 7 & 8 & 9\\end{bmatrix} \\begin{bmatrix} x_1 \\\\ x_2 \\\\ x_3 \\end{bmatrix} = \\begin{bmatrix} 41 \\\\ 93 \\\\ 145 \\end{bmatrix}\n",
        "$$\n",
        "\n",
        "$A \\cdot X = C$\n",
        "\n",
        "$A^{-1} \\cdot A \\cdot X = A^{-1} \\cdot C$\n",
        "\n",
        "$X = A^{-1} \\cdot C$\n",
        "\n",
        "$A^{-1} = \\frac{1}{\\text{det}(A)} \\cdot \\begin{bmatrix} 1 & 2 & 3 \\\\ 4 & 5 & 6 \\\\ 7 & 8 & 9 \\end{bmatrix}$\n",
        "\n",
        "$\\text{det}(A) = 1 \\cdot \\begin{bmatrix} 5 & 6 \\\\ 8 & 9 \\end{bmatrix} - 2 \\cdot \\begin{bmatrix} 4 & 6 \\\\ 7 & 9 \\end{bmatrix} + 3 \\cdot \\begin{bmatrix} 4 & 5 \\\\ 7 & 8 \\end{bmatrix} = -3 + 12 - 9 = 0$\n",
        "\n",
        "The determinant is zero, meaning the matrix is not invertible.\n"
      ],
      "metadata": {
        "id": "mXA9SyIM3RHC"
      }
    },
    {
      "cell_type": "code",
      "source": [
        "import numpy as np\n",
        "\n",
        "# Define the matrix of coefficients A and the vector of constants C\n",
        "A_matrix = np.array([[1, 2, 3], [0, 2, 3], [0, 0, 3]])\n",
        "C_vector = np.array([5, 4, 3])\n",
        "\n",
        "# Compute the inverse of A\n",
        "A_inverse = np.linalg.inv(A_matrix)\n",
        "\n",
        "# Find the solution vector X\n",
        "solution_X = np.dot(A_inverse, C_vector)\n",
        "\n",
        "# Display the solution\n",
        "print(solution_X)\n"
      ],
      "metadata": {
        "colab": {
          "base_uri": "https://localhost:8080/"
        },
        "id": "Efce4NQj33O8",
        "outputId": "14ec97ef-de90-4137-c156-04c72346310b"
      },
      "execution_count": null,
      "outputs": [
        {
          "output_type": "stream",
          "name": "stdout",
          "text": [
            "[1.  0.5 1. ]\n"
          ]
        }
      ]
    },
    {
      "cell_type": "code",
      "source": [
        "import numpy as np\n",
        "\n",
        "# Define the matrix of coefficients A and the constant vector C\n",
        "A_matrix = np.array([[1, 2, 3], [4, 5, 6], [7, 8, 9]])\n",
        "C_vector = np.array([41, 93, 145])\n",
        "\n",
        "# Compute the determinant of A\n",
        "determinant_A = np.linalg.det(A_matrix)\n",
        "\n",
        "# Check if the determinant is zero\n",
        "if determinant_A == 0:\n",
        "    print(\"The matrix cannot be inverted.\")\n",
        "else:\n",
        "    # Compute the inverse of A (only if determinant_A is not zero)\n",
        "    A_inverse = np.linalg.inv(A_matrix)\n",
        "\n",
        "    # Calculate the solution vector X\n",
        "    solution_X = np.dot(A_inverse, C_vector)\n",
        "\n",
        "    # Display the solution\n",
        "    print(\"Solution:\")\n",
        "    print(solution_X)\n"
      ],
      "metadata": {
        "colab": {
          "base_uri": "https://localhost:8080/"
        },
        "id": "_9Rc_e4z3_lt",
        "outputId": "b338653f-3ca7-437f-9759-2e5f5b7ed9fb"
      },
      "execution_count": null,
      "outputs": [
        {
          "output_type": "stream",
          "name": "stdout",
          "text": [
            "The matrix cannot be inverted.\n"
          ]
        }
      ]
    }
  ],
  "metadata": {
    "kernelspec": {
      "display_name": "Python 3",
      "language": "python",
      "name": "python3"
    },
    "language_info": {
      "codemirror_mode": {
        "name": "ipython",
        "version": 3
      },
      "file_extension": ".py",
      "mimetype": "text/x-python",
      "name": "python",
      "nbconvert_exporter": "python",
      "pygments_lexer": "ipython3",
      "version": "3.11.9"
    },
    "colab": {
      "provenance": [],
      "include_colab_link": true
    }
  },
  "nbformat": 4,
  "nbformat_minor": 0
}