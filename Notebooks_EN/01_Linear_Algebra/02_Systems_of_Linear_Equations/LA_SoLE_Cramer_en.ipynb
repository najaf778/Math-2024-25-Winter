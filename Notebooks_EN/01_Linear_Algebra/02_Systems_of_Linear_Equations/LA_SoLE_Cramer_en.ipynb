{
  "cells": [
    {
      "cell_type": "markdown",
      "metadata": {
        "id": "view-in-github",
        "colab_type": "text"
      },
      "source": [
        "<a href=\"https://colab.research.google.com/github/najaf778/Math-2024-25-Winter/blob/main/Notebooks_EN/01_Linear_Algebra/02_Systems_of_Linear_Equations/LA_SoLE_Cramer_en.ipynb\" target=\"_parent\"><img src=\"https://colab.research.google.com/assets/colab-badge.svg\" alt=\"Open In Colab\"/></a>"
      ]
    },
    {
      "cell_type": "markdown",
      "metadata": {
        "id": "_Kfx--GbWmIL"
      },
      "source": [
        "# Cramer's Rule - Examples for 2x2, 3x3, and 4x4 Systems\n",
        "\n",
        "Cramer's rule is used only when the number of equations is equal to the number of unknowns. In other words, the coefficient matrix must be a square matrix.\n",
        "\n",
        "**These formulas are used only** when the **determinant** of the coefficient matrix is **non-zero**. Otherwise, the system of equations is either inconsistent or indeterminate.\n",
        "\n",
        "## 2x2 System of Equations\n",
        "\n",
        "Consider a system of two equations with two unknowns:\n",
        "\n",
        "$$\n",
        "\\begin{cases}\n",
        "a_{11}x_1 + a_{12}x_2 = b_1 \\\\\n",
        "a_{21}x_1 + a_{22}x_2 = b_2\n",
        "\\end{cases}\n",
        "$$\n",
        "\n",
        "Cramer's rule for the unknowns $ x_1 $ and $ x_2 $ is as follows:\n",
        "\n",
        "$$\n",
        "x_1 = \\frac{\\det(A_1)}{\\det(A)} \\quad \\text{and} \\quad x_2 = \\frac{\\det(A_2)}{\\det(A)}\n",
        "$$\n",
        "\n",
        "Where:\n",
        "\n",
        "$$\n",
        "\\det(A) =\n",
        "\\begin{vmatrix}\n",
        "a_{11} & a_{12} \\\\\n",
        "a_{21} & a_{22}\n",
        "\\end{vmatrix}\n",
        "= a_{11}a_{22} - a_{12}a_{21}\n",
        "$$\n",
        "\n",
        "$$\n",
        "\\det(A_1) =\n",
        "\\begin{vmatrix}\n",
        "b_1 & a_{12} \\\\\n",
        "b_2 & a_{22}\n",
        "\\end{vmatrix}\n",
        "= b_1a_{22} - a_{12}b_2\n",
        "$$\n",
        "\n",
        "$$\n",
        "\\det(A_2) =\n",
        "\\begin{vmatrix}\n",
        "a_{11} & b_1 \\\\\n",
        "a_{21} & b_2\n",
        "\\end{vmatrix}\n",
        "= a_{11}b_2 - b_1a_{21}\n",
        "$$\n",
        "\n",
        "## 3x3 System of Equations\n",
        "\n",
        "Consider a system of three equations with three unknowns:\n",
        "\n",
        "$$\n",
        "\\begin{cases}\n",
        "a_{11}x_1 + a_{12}x_2 + a_{13}x_3 = b_1 \\\\\n",
        "a_{21}x_1 + a_{22}x_2 + a_{23}x_3 = b_2 \\\\\n",
        "a_{31}x_1 + a_{32}x_2 + a_{33}x_3 = b_3\n",
        "\\end{cases}\n",
        "$$\n",
        "\n",
        "Cramer's rule for $ x_1 $, $ x_2 $, and $ x_3 $:\n",
        "\n",
        "$$\n",
        "x_1 = \\frac{\\det(A_1)}{\\det(A)} \\quad x_2 = \\frac{\\det(A_2)}{\\det(A)} \\quad x_3 = \\frac{\\det(A_3)}{\\det(A)}\n",
        "$$\n",
        "\n",
        "Where:\n",
        "\n",
        "$$\n",
        "\\det(A) =\n",
        "\\begin{vmatrix}\n",
        "a_{11} & a_{12} & a_{13} \\\\\n",
        "a_{21} & a_{22} & a_{23} \\\\\n",
        "a_{31} & a_{32} & a_{33}\n",
        "\\end{vmatrix}\n",
        "$$\n",
        "\n",
        "$$\n",
        "\\det(A_1) =\n",
        "\\begin{vmatrix}\n",
        "b_1 & a_{12} & a_{13} \\\\\n",
        "b_2 & a_{22} & a_{23} \\\\\n",
        "b_3 & a_{32} & a_{33}\n",
        "\\end{vmatrix}\n",
        "$$\n",
        "\n",
        "$$\n",
        "\\det(A_2) =\n",
        "\\begin{vmatrix}\n",
        "a_{11} & b_1 & a_{13} \\\\\n",
        "a_{21} & b_2 & a_{23} \\\\\n",
        "a_{31} & b_3 & a_{33}\n",
        "\\end{vmatrix}\n",
        "$$\n",
        "\n",
        "$$\n",
        "\\det(A_3) =\n",
        "\\begin{vmatrix}\n",
        "a_{11} & a_{12} & b_1 \\\\\n",
        "a_{21} & a_{22} & b_2 \\\\\n",
        "a_{31} & a_{32} & b_3\n",
        "\\end{vmatrix}\n",
        "$$\n",
        "\n",
        "## 4x4 System of Equations\n",
        "\n",
        "Consider a system of four equations with four unknowns:\n",
        "\n",
        "$$\n",
        "\\begin{cases}\n",
        "a_{11}x_1 + a_{12}x_2 + a_{13}x_3 + a_{14}x_4 = b_1 \\\\\n",
        "a_{21}x_1 + a_{22}x_2 + a_{23}x_3 + a_{24}x_4 = b_2 \\\\\n",
        "a_{31}x_1 + a_{32}x_2 + a_{33}x_3 + a_{34}x_4 = b_3 \\\\\n",
        "a_{41}x_1 + a_{42}x_2 + a_{43}x_3 + a_{44}x_4 = b_4\n",
        "\\end{cases}\n",
        "$$\n",
        "\n",
        "Cramer's rule for $ x_1 $, $ x_2 $, $ x_3 $, and $ x_4 $:\n",
        "\n",
        "$$\n",
        "x_1 = \\frac{\\det(A_1)}{\\det(A)} \\quad x_2 = \\frac{\\det(A_2)}{\\det(A)} \\quad x_3 = \\frac{\\det(A_3)}{\\det(A)} \\quad x_4 = \\frac{\\det(A_4)}{\\det(A)}\n",
        "$$\n",
        "\n",
        "Where:\n",
        "\n",
        "$$\n",
        "\\det(A) =\n",
        "\\begin{vmatrix}\n",
        "a_{11} & a_{12} & a_{13} & a_{14} \\\\\n",
        "a_{21} & a_{22} & a_{23} & a_{24} \\\\\n",
        "a_{31} & a_{32} & a_{33} & a_{34} \\\\\n",
        "a_{41} & a_{42} & a_{43} & a_{44}\n",
        "\\end{vmatrix}\n",
        "$$\n",
        "\n",
        "$$\n",
        "\\det(A_1) =\n",
        "\\begin{vmatrix}\n",
        "b_1 & a_{12} & a_{13} & a_{14} \\\\\n",
        "b_2 & a_{22} & a_{23} & a_{24} \\\\\n",
        "b_3 & a_{32} & a_{33} & a_{34} \\\\\n",
        "b_4 & a_{42} & a_{43} & a_{44}\n",
        "\\end{vmatrix}\n",
        "$$\n",
        "\n",
        "$$\n",
        "\\det(A_2) =\n",
        "\\begin{vmatrix}\n",
        "a_{11} & b_1 & a_{13} & a_{14} \\\\\n",
        "a_{21} & b_2 & a_{23} & a_{24} \\\\\n",
        "a_{31} & b_3 & a_{33} & a_{34} \\\\\n",
        "a_{41} & b_4 & a_{43} & a_{44}\n",
        "\\end{vmatrix}\n",
        "$$\n",
        "\n",
        "$$\n",
        "\\det(A_3) =\n",
        "\\begin{vmatrix}\n",
        "a_{11} & a_{12} & b_1 & a_{14} \\\\\n",
        "a_{21} & a_{22} & b_2 & a_{24} \\\\\n",
        "a_{31} & a_{32} & b_3 & a_{34} \\\\\n",
        "a_{41} & a_{42} & b_4 & a_{44}\n",
        "\\end{vmatrix}\n",
        "$$\n",
        "\n",
        "$$\n",
        "\\det(A_4) =\n",
        "\\begin{vmatrix}\n",
        "a_{11} & a_{12} & a_{13} & b_1 \\\\\n",
        "a_{21} & a_{22} & a_{23} & b_2 \\\\\n",
        "a_{31} & a_{32} & a_{33} & b_3 \\\\\n",
        "a_{41} & a_{42} & a_{43} & b_4\n",
        "\\end{vmatrix}\n",
        "$$\n",
        "\n",
        "## Example"
      ]
    },
    {
      "cell_type": "code",
      "execution_count": null,
      "metadata": {
        "id": "4UAi-JJqWmIN"
      },
      "outputs": [],
      "source": [
        "import sympy as sp\n",
        "\n",
        "# Define symbols\n",
        "x, y, z = sp.symbols('x y z')\n",
        "\n",
        "# Define the system of equations\n",
        "eq1 = sp.Eq(2*x + 3*y + z, 1)\n",
        "eq2 = sp.Eq(3*x + 2*y + 2*z, 2)\n",
        "eq3 = sp.Eq(x + y + z, 3)\n",
        "\n",
        "# Coefficient matrix of the system\n",
        "A = sp.Matrix([[2, 3, 1], [3, 2, 2], [1, 1, 1]])\n",
        "# Free terms vector\n",
        "b = sp.Matrix([1, 2, 3])"
      ]
    },
    {
      "cell_type": "code",
      "execution_count": null,
      "metadata": {
        "id": "NkWb0uZCWmIN",
        "outputId": "be98621c-55e5-4746-c0bb-539989c9f637"
      },
      "outputs": [
        {
          "data": {
            "text/latex": [
              "$\\displaystyle \\left[\\begin{matrix}2 & 3 & 1\\\\3 & 2 & 2\\\\1 & 1 & 1\\end{matrix}\\right]$"
            ],
            "text/plain": [
              "Matrix([\n",
              "[2, 3, 1],\n",
              "[3, 2, 2],\n",
              "[1, 1, 1]])"
            ]
          },
          "execution_count": 2,
          "metadata": {},
          "output_type": "execute_result"
        }
      ],
      "source": [
        "A"
      ]
    },
    {
      "cell_type": "code",
      "execution_count": null,
      "metadata": {
        "id": "T8NeNjw-WmIN",
        "outputId": "df7a41d6-3426-4de4-d24f-f9368b9c29fc"
      },
      "outputs": [
        {
          "data": {
            "text/latex": [
              "$\\displaystyle \\left[\\begin{matrix}1\\\\2\\\\3\\end{matrix}\\right]$"
            ],
            "text/plain": [
              "Matrix([\n",
              "[1],\n",
              "[2],\n",
              "[3]])"
            ]
          },
          "execution_count": 3,
          "metadata": {},
          "output_type": "execute_result"
        }
      ],
      "source": [
        "b"
      ]
    },
    {
      "cell_type": "code",
      "execution_count": null,
      "metadata": {
        "id": "pGh8UwJ-WmIO",
        "outputId": "435dc6e0-f5c7-48d5-be0b-e6a1a0d8bcf8"
      },
      "outputs": [
        {
          "data": {
            "text/latex": [
              "$\\displaystyle \\left[\\begin{matrix}1 & 3 & 1\\\\2 & 2 & 2\\\\3 & 1 & 1\\end{matrix}\\right]$"
            ],
            "text/plain": [
              "Matrix([\n",
              "[1, 3, 1],\n",
              "[2, 2, 2],\n",
              "[3, 1, 1]])"
            ]
          },
          "execution_count": 4,
          "metadata": {},
          "output_type": "execute_result"
        }
      ],
      "source": [
        "# Define matrix A_1\n",
        "A_1 = A.copy() # Copy matrix A\n",
        "A_1[:, 0] = b # Replace the first column of A with vector b\n",
        "A_1 # Check if the replacement was successful"
      ]
    },
    {
      "cell_type": "code",
      "execution_count": null,
      "metadata": {
        "id": "rJeoV-vLWmIO",
        "outputId": "d089303f-1b9d-4be8-e805-24311dbf6f1c"
      },
      "outputs": [
        {
          "data": {
            "text/latex": [
              "$\\displaystyle -4$"
            ],
            "text/plain": [
              "-4"
            ]
          },
          "execution_count": 5,
          "metadata": {},
          "output_type": "execute_result"
        }
      ],
      "source": [
        "det_A_1 = A_1.det() # Calculate determinant of A_1\n",
        "sol_x = det_A_1 / A.det() # Calculate x_1\n",
        "sol_x # Calculated value of x_1"
      ]
    },
    {
      "cell_type": "code",
      "execution_count": null,
      "metadata": {
        "id": "XiJcjqCFWmIO",
        "outputId": "f63b8268-4fbc-46e6-b2ea-86760426d787"
      },
      "outputs": [
        {
          "data": {
            "text/latex": [
              "$\\displaystyle \\left[\\begin{matrix}2 & 1 & 1\\\\3 & 2 & 2\\\\1 & 3 & 1\\end{matrix}\\right]$"
            ],
            "text/plain": [
              "Matrix([\n",
              "[2, 1, 1],\n",
              "[3, 2, 2],\n",
              "[1, 3, 1]])"
            ]
          },
          "execution_count": 6,
          "metadata": {},
          "output_type": "execute_result"
        }
      ],
      "source": [
        "# Similarly for y\n",
        "A_2 = A.copy()\n",
        "A_2[:, 1] = b\n",
        "A_2 # Check if the replacement was successful"
      ]
    },
    {
      "cell_type": "code",
      "execution_count": null,
      "metadata": {
        "id": "-Voh0N4WWmIO",
        "outputId": "60e66034-3930-468c-e4cf-1b0147a9819a"
      },
      "outputs": [
        {
          "data": {
            "text/latex": [
              "$\\displaystyle 1$"
            ],
            "text/plain": [
              "1"
            ]
          },
          "execution_count": 7,
          "metadata": {},
          "output_type": "execute_result"
        }
      ],
      "source": [
        "det_A_2 = A_2.det()\n",
        "sol_y = det_A_2 / A.det()\n",
        "sol_y"
      ]
    },
    {
      "cell_type": "code",
      "execution_count": null,
      "metadata": {
        "id": "oJBzzbQNWmIO",
        "outputId": "3ac65f44-df70-4848-e3ae-9955d483ec49"
      },
      "outputs": [
        {
          "data": {
            "text/latex": [
              "$\\displaystyle 6$"
            ],
            "text/plain": [
              "6"
            ]
          },
          "execution_count": 8,
          "metadata": {},
          "output_type": "execute_result"
        }
      ],
      "source": [
        "# Finally for z\n",
        "A_3 = A.copy()\n",
        "A_3[:, 2] = b\n",
        "det_A_3 = A_3.det()\n",
        "sol_z = det_A_3 / A.det()\n",
        "sol_z"
      ]
    },
    {
      "cell_type": "code",
      "execution_count": null,
      "metadata": {
        "id": "GrisMVjjWmIO",
        "outputId": "cfab477c-0161-470c-bb94-2ea63884dce9"
      },
      "outputs": [
        {
          "data": {
            "text/plain": [
              "{x: -4, y: 1, z: 6}"
            ]
          },
          "execution_count": 9,
          "metadata": {},
          "output_type": "execute_result"
        }
      ],
      "source": [
        "# Solve the system of equations\n",
        "sp.solve((eq1, eq2, eq3), (x, y, z))"
      ]
    },
    {
      "cell_type": "markdown",
      "metadata": {
        "id": "ki-AWmQxWmIO"
      },
      "source": [
        "---\n",
        "\n",
        "## Exercises for Students\n",
        "\n",
        "1. Solve the system of equations:\n",
        "   $$\n",
        "   \\begin{cases}\n",
        "   2x_1 - 3x_2 = 7 \\\\\n",
        "   3x_1 + 5x_2 = 2\n",
        "   \\end{cases}\n",
        "   $$\n",
        "\n",
        "2. Solve the system of equations:\n",
        "   $$\n",
        "   \\begin{cases}\n",
        "   2x + y - z = 1 \\\\\n",
        "   x - y + 2z = 4 \\\\\n",
        "   3x - 2z = -1\n",
        "   \\end{cases}\n",
        "   $$\n",
        "\n",
        "3. Solve the system of equations:\n",
        "   $$\n",
        "   \\begin{cases}\n",
        "   x + y + z - t = 2 \\\\\n",
        "   x - z + 2t = 6 \\\\\n",
        "   2x - 3y + t = 4 \\\\\n",
        "   3x + y + 3z - 4t = -2\n",
        "   \\end{cases}\n",
        "   $$\n",
        "\n",
        "4. Why can't the following system of equations be solved using Cramer's rule?\n",
        "$$\n",
        "\\begin{cases}\n",
        "x_1 + 2x_2 + 3x_3 = 3 \\\\\n",
        "4x_1 + 5x_2 + 6x_3 = 2 \\\\\n",
        "7x_1 + 8x_2 + 9x_3 = 1\n",
        "\\end{cases}\n",
        "$$"
      ]
    },
    {
      "cell_type": "markdown",
      "source": [
        "# ***Homework***\n",
        "## **Task 1**\n",
        "$\n",
        "   \\begin{cases}\n",
        "   2x_1 - 3x_2 = 7 \\\\  \n",
        "   3x_1 + 5x_2 = 2  \n",
        "   \\end{cases}\n",
        "$\n",
        "\n",
        "$\\begin{bmatrix}2 & -3 | 7\\\\3 & 5 | 2\\end{bmatrix}$  \n",
        "\n",
        "$\\mathbf{det}(A)=2\\cdot 5-3\\cdot(-3)=19$  \n",
        "\n",
        "$\\mathbf{det}(A_1)=\\begin{bmatrix}7 & -3\\\\2 &5\\end{bmatrix}=41$  \n",
        "\n",
        "$\\mathbf{det}(A_2)=\\begin{bmatrix}2 & 7\\\\3 & 2\\end{bmatrix}=-17$  \n",
        "\n",
        "$x_1=\\frac{\\mathbf{det}(A_1)}{\\mathbf{det}(A)}=\\frac{41}{19}$;  \n",
        "$x_2=\\frac{\\mathbf{det}(A_2)}{\\mathbf{det}(A)}=\\frac{-17}{19}$  \n",
        "\n",
        "## **Task 2**  \n",
        "$\n",
        "   \\begin{cases}\n",
        "   2x + y - z = 1 \\\\  \n",
        "   x - y + 2z = 4 \\\\  \n",
        "   3x - 2z = -1  \n",
        "   \\end{cases}\n",
        "$  \n",
        "\n",
        "$\\begin{bmatrix} 2 & 1 & -1 |1 \\\\ 1 & -1 & 2 |4 \\\\ 3 & 0 & -2 |-1\\end{bmatrix}$  \n",
        "\n",
        "$ \\det(A) = 3\\begin{bmatrix}1 & -1\\\\-1 & 2\\end{bmatrix}-0+(-2)\\begin{bmatrix}2 & 1 \\\\ 1 & -1\\end{bmatrix}=3+6=9$  \n",
        "\n",
        "$\\det(A_x)=\\begin{bmatrix}1 & 1 & -1\\\\4 & -1 & 2\\\\-1 & 0 & -2\\end{bmatrix}=-1\\begin{bmatrix}1 & -1 \\\\ -1 & 2\\end{bmatrix}- 0 + (-2)\\begin{bmatrix}1 & 1\\\\4 & -1\\end{bmatrix}=-1+10=9$  \n",
        "\n",
        "$\\det(A_y)=\\begin{bmatrix}2 & 1 & -1\\\\1 & 4 & 2\\\\3 & -1 & -2\\end{bmatrix}=2\\begin{bmatrix}4 & 2 \\\\ -1 & -2\\end{bmatrix}-1\\begin{bmatrix}1 & 2\\\\3 & -2\\end{bmatrix}+(-1)\\begin{bmatrix}1 & 4\\\\3 & -1\\end{bmatrix}=-12+8+13=9$  \n",
        "\n",
        "$\\det(A_z)=\\begin{bmatrix}2 & 1 & 1\\\\1 & -1 & 4\\\\3 & 0 & -1\\end{bmatrix}=3\\begin{bmatrix}1 & 1 \\\\ -1 & 4\\end{bmatrix}-0+(-1)\\begin{bmatrix}2 & 1\\\\1 & -1\\end{bmatrix}=15+3=18$  \n",
        "\n",
        "$x = \\frac{\\mathbf{det}(A_x)}{\\mathbf{det}(A)} = \\frac{9}{9} = 1$  \n",
        "\n",
        "$y = \\frac{\\mathbf{det}(A_y)}{\\mathbf{det}(A)} = \\frac{9}{9} = 1$  \n",
        "\n",
        "$z = \\frac{\\mathbf{det}(A_z)}{\\mathbf{det}(A)} = \\frac{18}{9} = 2$  \n",
        "\n",
        "## **Task 3 **\n",
        "\n",
        "$\n",
        "   \\begin{cases}\n",
        "   x + y + z - t = 2 \\\\  \n",
        "   x - z + 2t = 6 \\\\  \n",
        "   2x - 3y + t = 4 \\\\  \n",
        "   3x + y + 3z - 4t = -2  \n",
        "   \\end{cases}\n",
        "$\n",
        "\n",
        "$\\begin{bmatrix} 1 & 1 & 1 & -1 &| 2 \\\\ 1 & 0 & -1 & 2 &|6 \\\\ 2 & -3 & 0 & 1 &|4 \\\\ 3 & 1 & 3 & -4 &| -2\\end{bmatrix}$  \n",
        "\n",
        "Using Gaussian elimination:  \n",
        "\n",
        "$1. R_2=R_2 - R_1$  \n",
        "\n",
        "$\\begin{bmatrix} 1 & 1 & 1 & -1 &|2 \\\\ 0 & -1 & -2 & 3 &|4 \\\\ 2 & -3 & 0 & 1 &|4 \\\\ 3 & 1 & 3 & -4 &|-2\\end{bmatrix}$  \n",
        "\n",
        "\n",
        "Gaussian elimination:  \n",
        "\n",
        "$R_3 = R_3 - 2R_1$  \n",
        "\n",
        "$\\begin{bmatrix} 1 & 1 & 1 & -1 &|2 \\\\ 0 & -1 & -2 & 3 &|4 \\\\ 0 & -5 & -2 & 3 &|0 \\\\ 3 & 1 & 3 & -4 &|-2\\end{bmatrix}$  \n",
        "\n",
        "$R_4 = R_4 - 3R_1$  \n",
        "\n",
        "$\\begin{bmatrix} 1 & 1 & 1 & -1 &|2 \\\\ 0 & -1 & -2 & 3 &|4 \\\\ 0 & -5 & -2 & 3 &|0 \\\\ 0 & -2 & 0 & -1 &|-8\\end{bmatrix}$  \n",
        "\n",
        "$R_2 = R_2 \\cdot (-1)$  \n",
        "\n",
        "$\\begin{bmatrix} 1 & 1 & 1 & -1 &|2 \\\\ 0 & 1 & 2 & -3 &|-4 \\\\ 0 & -5 & -2 & 3 &|0 \\\\ 0 & -2 & 0 & -1 &|-8\\end{bmatrix}$  \n",
        "\n",
        "$R_3 = R_3 + 5R_2$  \n",
        "\n",
        "$\\begin{bmatrix} 1 & 1 & 1 & -1 &|2 \\\\ 0 & 1 & 2 & -3 &|-4 \\\\ 0 & 0 & 8 & -12 &|-20 \\\\ 0 & -2 & 0 & -1 &|-8\\end{bmatrix}$  \n",
        "\n",
        "$R_4 = R_4 + 2R_2$  \n",
        "\n",
        "$\\begin{bmatrix} 1 & 1 & 1 & -1 &|2 \\\\ 0 & 1 & 2 & -3 &|-4 \\\\ 0 & 0 & 8 & -12 &|-20 \\\\ 0 & 0 & 4 & -7 &|-16\\end{bmatrix}$  \n",
        "\n",
        "$R_4 = R_4 - \\frac{1}{2}R_3$  \n",
        "\n",
        "$\\begin{bmatrix} 1 & 1 & 1 & -1 &|2 \\\\ 0 & 1 & 2 & -3 &|-4 \\\\ 0 & 0 & 8 & -12 &|-20 \\\\ 0 & 0 & 0 & -1 &|-6\\end{bmatrix}$  \n",
        "\n",
        "Determinants:  \n",
        "\n",
        "$\\mathbf{det}(A) = 1 \\cdot 1 \\cdot 8 \\cdot (-1) = -8$  \n",
        "\n",
        "$\\mathbf{det}(A_x) = 2 \\cdot 1 \\cdot 8 \\cdot (-1) = -16$  \n",
        "\n",
        "$\\mathbf{det}(A_y) = 1 \\cdot (-4) \\cdot 8 \\cdot (-1) = 32$  \n",
        "\n",
        "$\\mathbf{det}(A_z) = 1 \\cdot 1 \\cdot (-20) \\cdot (-1) = 20$  \n",
        "\n",
        "$\\mathbf{det}(A_t) = 1 \\cdot 1 \\cdot 8 \\cdot (-6) = -48$  \n",
        "\n",
        "Solutions:  \n",
        "\n",
        "$x = \\frac{-16}{-8} = 2$  \n",
        "$y = \\frac{32}{-8} = -4$  \n",
        "$z = \\frac{20}{-8} = -2.5$  \n",
        "$t = \\frac{-48}{-8} = 6$  \n",
        "\n",
        "## **Task 4**\n",
        "\n",
        "$\n",
        "\\begin{cases}\n",
        "x_1 + 2x_2 + 3x_3 = 3 \\\\  \n",
        "4x_1 + 5x_2 + 6x_3 = 2 \\\\  \n",
        "7x_1 + 8x_2 + 9x_3 = 1  \n",
        "\\end{cases}\n",
        "$\n",
        "\n",
        "$\\begin{bmatrix} 1 & 2 & 3 \\\\ 4 & 5 & 6 \\\\ 7 & 8 & 9\\end{bmatrix}$  \n",
        "\n",
        "The determinant of this coefficient matrix equals $0$, which means that Cramer's rule is not applicable.  \n",
        "\n",
        "## **Conclusion**  \n",
        "Each problem was solved step-by-step using appropriate methods such as Cramer’s rule and Gaussian elimination. In Task 4, since the determinant of the coefficient matrix was $0$, the system is either dependent or inconsistent.\n"
      ],
      "metadata": {
        "id": "83w1PfxEXmwC"
      }
    },
    {
      "cell_type": "code",
      "source": [
        "import sympy as sp\n",
        "\n",
        "# Define symbols\n",
        "x, y = sp.symbols('x y')\n",
        "\n",
        "# Define the coefficient matrix A\n",
        "A = sp.Matrix([[2, -3], [3, 5]])\n",
        "\n",
        "# Define the constant matrix C\n",
        "C = sp.Matrix([7, 2])\n",
        "\n",
        "# Calculate the determinant of A\n",
        "det_A = A.det()\n",
        "\n",
        "# Calculate the inverse of A\n",
        "A_inv = A.inv()\n",
        "\n",
        "# Calculate X\n",
        "X = A_inv * C\n",
        "\n",
        "# Print the solution\n",
        "print(\"Solution:\")\n",
        "print(\"x =\", X[0])\n",
        "print(\"y =\", X[1])\n",
        "\n",
        "# Define the matrix X_matrix\n",
        "X_matrix = sp.Matrix([[5/19, 3/19], [-3/19, 2/19]])\n",
        "\n",
        "# Define the vector\n",
        "vector = sp.Matrix([7, 2])\n",
        "\n",
        "# Calculate the result\n",
        "result = X_matrix * vector\n",
        "\n",
        "# Extract x and y\n",
        "x_res = result[0]\n",
        "y_res = result[1]\n",
        "\n",
        "# Print the values\n",
        "print(\"x =\", x_res)\n",
        "print(\"y =\", y_res)\n"
      ],
      "metadata": {
        "colab": {
          "base_uri": "https://localhost:8080/"
        },
        "id": "tl1rS5IoY42N",
        "outputId": "53df0d3e-cd14-42b3-bdf0-092cfa99b8c5"
      },
      "execution_count": null,
      "outputs": [
        {
          "output_type": "stream",
          "name": "stdout",
          "text": [
            "Solution:\n",
            "x = 41/19\n",
            "y = -17/19\n",
            "x = 2.15789473684211\n",
            "y = -0.894736842105263\n"
          ]
        }
      ]
    },
    {
      "cell_type": "code",
      "source": [
        "import sympy as sp\n",
        "\n",
        "# Define symbols\n",
        "x, y, z = sp.symbols('x y z')\n",
        "\n",
        "# Define the coefficient matrix A\n",
        "A = sp.Matrix([[2, 1, -1],\n",
        "               [1, -1, 2],\n",
        "               [3, 0, -2]])\n",
        "\n",
        "# Define the constant vector b\n",
        "b = sp.Matrix([1, 4, -1])\n",
        "\n",
        "# Solve for x, y, and z\n",
        "solution = sp.solve(A * sp.Matrix([x, y, z]) - b, [x, y, z])\n",
        "\n",
        "# Print the solution\n",
        "print(\"Solution:\")\n",
        "print(\"x =\", solution[x])\n",
        "print(\"y =\", solution[y])\n",
        "print(\"z =\", solution[z])\n"
      ],
      "metadata": {
        "colab": {
          "base_uri": "https://localhost:8080/"
        },
        "id": "CQLge2xxZGyw",
        "outputId": "304977b1-4bdd-482b-a1ab-6ab51dd3df31"
      },
      "execution_count": null,
      "outputs": [
        {
          "output_type": "stream",
          "name": "stdout",
          "text": [
            "Solution:\n",
            "x = 1\n",
            "y = 1\n",
            "z = 2\n"
          ]
        }
      ]
    },
    {
      "cell_type": "code",
      "source": [
        "import numpy as np\n",
        "\n",
        "# Define the coefficient matrix\n",
        "matrix_A = np.array([[1, 2, 3],\n",
        "                     [4, 5, 6],\n",
        "                     [7, 8, 9]])\n",
        "\n",
        "# Calculate the determinant\n",
        "determinant = np.linalg.det(matrix_A)\n",
        "\n",
        "# Print the determinant\n",
        "print(\"The determinant of the matrix A is:\", determinant)  # Output: 0.0\n"
      ],
      "metadata": {
        "colab": {
          "base_uri": "https://localhost:8080/"
        },
        "id": "Eckr4PQ1ZORA",
        "outputId": "ac8fb1e4-5f36-4b35-bb7f-5d07beeaa918"
      },
      "execution_count": null,
      "outputs": [
        {
          "output_type": "stream",
          "name": "stdout",
          "text": [
            "The determinant of the matrix A is: 0.0\n"
          ]
        }
      ]
    }
  ],
  "metadata": {
    "kernelspec": {
      "display_name": "Python 3",
      "language": "python",
      "name": "python3"
    },
    "language_info": {
      "codemirror_mode": {
        "name": "ipython",
        "version": 3
      },
      "file_extension": ".py",
      "mimetype": "text/x-python",
      "name": "python",
      "nbconvert_exporter": "python",
      "pygments_lexer": "ipython3",
      "version": "3.11.9"
    },
    "colab": {
      "provenance": [],
      "include_colab_link": true
    }
  },
  "nbformat": 4,
  "nbformat_minor": 0
}