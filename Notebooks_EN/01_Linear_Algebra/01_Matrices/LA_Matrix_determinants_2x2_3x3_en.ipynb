{
  "cells": [
    {
      "cell_type": "markdown",
      "metadata": {
        "id": "view-in-github",
        "colab_type": "text"
      },
      "source": [
        "<a href=\"https://colab.research.google.com/github/najaf778/Math-2024-25-Winter/blob/main/Notebooks_EN/01_Linear_Algebra/01_Matrices/LA_Matrix_determinants_2x2_3x3_en.ipynb\" target=\"_parent\"><img src=\"https://colab.research.google.com/assets/colab-badge.svg\" alt=\"Open In Colab\"/></a>"
      ]
    },
    {
      "cell_type": "markdown",
      "metadata": {
        "id": "--J4pe6nrZzB"
      },
      "source": [
        "# Determinants of 2x2 and 3x3 matrices\n",
        "\n",
        "### Determinant of a 2x2 Matrix\n",
        "\n",
        "The general formula for the determinant of a 2x2 matrix, where the matrix looks as follows:\n",
        "\n",
        "$$\n",
        "\\mathbf{A} =\n",
        "\\begin{pmatrix}\n",
        "a_{11} & a_{12} \\\\\n",
        "a_{21} & a_{22}\n",
        "\\end{pmatrix}\n",
        "$$\n",
        "\n",
        "The determinant of a 2x2 matrix is calculated using the formula:\n",
        "\n",
        "$$\n",
        "\\text{det}(A) = a_{11} \\cdot a_{22} - a_{12} \\cdot a_{21}\n",
        "$$\n",
        "\n",
        "### Determinant of a 3x3 Matrix\n",
        "\n",
        "The general formula for the determinant of a 3x3 matrix, where the matrix looks as follows:\n",
        "\n",
        "$$\n",
        "\\mathbf{B} =\n",
        "\\begin{pmatrix}\n",
        "a_{11} & a_{12} & a_{13} \\\\\n",
        "a_{21} & a_{22} & a_{23} \\\\\n",
        "a_{31} & a_{32} & a_{33}\n",
        "\\end{pmatrix}\n",
        "$$\n",
        "\n",
        "The determinant of a 3x3 matrix can be calculated using Sarrus' rule or Laplace expansion. Here, we will use Sarrus' rule:\n",
        "\n",
        "$$\n",
        "\\text{det}(B) = a_{11} \\cdot a_{22} \\cdot a_{33} + a_{12} \\cdot a_{23} \\cdot a_{31} + a_{13} \\cdot a_{21} \\cdot a_{32}\n",
        "- a_{13} \\cdot a_{22} \\cdot a_{31} - a_{12} \\cdot a_{21} \\cdot a_{33} - a_{11} \\cdot a_{23} \\cdot a_{32}\n",
        "$$\n",
        "\n",
        "<img src=\"https://upload.wikimedia.org/wikipedia/commons/c/c0/Sarrus_rule1.svg\" alt=\"Image description\" width=\"300\" align=\"center\"/>\n",
        "\n",
        "Note: Sarrus' rule does not work for matrices larger than 3x3.\n",
        "\n",
        "### Calculating Determinants in Python using SymPy\n",
        "\n",
        "Now, using the SymPy library, we will calculate the determinants for 2x2 and 3x3 matrices."
      ]
    },
    {
      "cell_type": "code",
      "execution_count": null,
      "metadata": {
        "id": "eOj0eA1urZzC",
        "outputId": "3c964772-7515-4b8f-9f6e-ce0efb2220d5"
      },
      "outputs": [
        {
          "data": {
            "text/latex": [
              "$\\displaystyle \\left[\\begin{matrix}2 & 3\\\\1 & 4\\end{matrix}\\right]$"
            ],
            "text/plain": [
              "Matrix([\n",
              "[2, 3],\n",
              "[1, 4]])"
            ]
          },
          "execution_count": 1,
          "metadata": {},
          "output_type": "execute_result"
        }
      ],
      "source": [
        "import sympy as sp\n",
        "\n",
        "# Define the matrix\n",
        "A = sp.Matrix([[2, 3], [1, 4]])\n",
        "A # display the matrix"
      ]
    },
    {
      "cell_type": "code",
      "execution_count": null,
      "metadata": {
        "notebookRunGroups": {
          "groupValue": "2"
        },
        "id": "dHFcfEDIrZzD",
        "outputId": "19d6466e-5420-41de-ce9e-390ee07cd805"
      },
      "outputs": [
        {
          "data": {
            "text/plain": [
              "True"
            ]
          },
          "execution_count": 2,
          "metadata": {},
          "output_type": "execute_result"
        }
      ],
      "source": [
        "# Verify the correctness of the calculations\n",
        "(2*4 - 3*1) == A.det()"
      ]
    },
    {
      "cell_type": "code",
      "execution_count": null,
      "metadata": {
        "id": "63ZSXgytrZzD",
        "outputId": "54fc7469-3cdf-4bfd-9729-92581eb7ef9c"
      },
      "outputs": [
        {
          "data": {
            "text/latex": [
              "$\\displaystyle \\left[\\begin{matrix}2 & 3 & 1\\\\1 & 4 & 5\\\\3 & 2 & 1\\end{matrix}\\right]$"
            ],
            "text/plain": [
              "Matrix([\n",
              "[2, 3, 1],\n",
              "[1, 4, 5],\n",
              "[3, 2, 1]])"
            ]
          },
          "execution_count": 3,
          "metadata": {},
          "output_type": "execute_result"
        }
      ],
      "source": [
        "# 3x3 Matrix\n",
        "B = sp.Matrix([[2, 3, 1], [1, 4, 5], [3, 2, 1]])\n",
        "B"
      ]
    },
    {
      "cell_type": "code",
      "execution_count": null,
      "metadata": {
        "id": "D_COovDTrZzD",
        "outputId": "3d72abd6-e34f-4967-e9f2-1109bb32c69b"
      },
      "outputs": [
        {
          "data": {
            "text/plain": [
              "True"
            ]
          },
          "execution_count": 4,
          "metadata": {},
          "output_type": "execute_result"
        }
      ],
      "source": [
        "# Verify the correctness of the calculations\n",
        "(2*4*1 + 3*5*3 + 1*1*2 - 1*4*3 - 5*2*2 - 3*1*1) == B.det()"
      ]
    },
    {
      "cell_type": "markdown",
      "metadata": {
        "id": "5er4JSw7rZzD"
      },
      "source": [
        "---\n",
        "\n",
        "## Exercises for Students\n",
        "\n",
        "Calculate the determinants for the 2x2 and 3x3 matrices given below.\n",
        "\n",
        "1. 2x2 Matrices:\n",
        "\n",
        "$$\n",
        "\\mathbf{A} =\n",
        "\\begin{pmatrix}\n",
        "2 & 3 \\\\\n",
        "1 & 4\n",
        "\\end{pmatrix}\n",
        ", \\qquad\n",
        "\\mathbf{B} =\n",
        "\\begin{pmatrix}\n",
        "5 & 6 \\\\\n",
        "7 & 8\n",
        "\\end{pmatrix}\n",
        ", \\qquad\n",
        "\\mathbf{C} =\n",
        "\\begin{pmatrix}\n",
        "-1 & 2 \\\\\n",
        "3 & 0\n",
        "\\end{pmatrix}\n",
        "$$\n",
        "\n",
        "2. 3x3 Matrices:\n",
        "\n",
        "\n",
        "$$\n",
        "\\mathbf{D} =\n",
        "\\begin{pmatrix}\n",
        "1 & 0 & 2 \\\\\n",
        "-1 & 3 & 1 \\\\\n",
        "2 & 4 & -2\n",
        "\\end{pmatrix}\n",
        ", \\qquad\n",
        "\\mathbf{E} =\n",
        "\\begin{pmatrix}\n",
        "3 & 1 & -1 \\\\\n",
        "0 & 2 & 4 \\\\\n",
        "5 & 3 & 2\n",
        "\\end{pmatrix}\n",
        ", \\qquad\n",
        "\\mathbf{F} =\n",
        "\\begin{pmatrix}\n",
        "2 & -3 & 1 \\\\\n",
        "1 & 4 & -2 \\\\\n",
        "1 & 5 & 3\n",
        "\\end{pmatrix}\n",
        "$$"
      ]
    },
    {
      "cell_type": "markdown",
      "source": [
        "# ***Homework***\n",
        "## **Exercise 1**\n",
        "$$\n",
        "\\mathbf{A} =\n",
        "\\begin{pmatrix}\n",
        "2 & 3 \\\\\n",
        "1 & 4\n",
        "\\end{pmatrix}\n",
        ", \\qquad\n",
        "\\mathbf{B} =\n",
        "\\begin{pmatrix}\n",
        "5 & 6 \\\\\n",
        "7 & 8\n",
        "\\end{pmatrix}\n",
        ", \\qquad\n",
        "\\mathbf{C} =\n",
        "\\begin{pmatrix}\n",
        "-1 & 2 \\\\\n",
        "3 & 0\n",
        "\\end{pmatrix}\n",
        "$$\n",
        "\n",
        "Since $\\mathbf{A}, \\mathbf{B}, \\mathbf{C}$ are $2 \\times 2$ matrices, their determinants are computed as:\n",
        "$$\n",
        "\\text{det}(M) = m_{11} \\cdot m_{22} - m_{12} \\cdot m_{21}\n",
        "$$\n",
        "\n",
        "$\n",
        "\\mathbf{det}(A) = 2 \\cdot 4 - 3 \\cdot 1 = 8 - 3 = 5\n",
        "$\n",
        "\n",
        "$\n",
        "\\mathbf{det}(B) = 5 \\cdot 8 - 6 \\cdot 7 = 40 - 42 = -2\n",
        "$\n",
        "\n",
        "$\n",
        "\\mathbf{det}(C) = (-1) \\cdot 0 - 3 \\cdot 2 = -6\n",
        "$\n",
        "\n",
        "## **Exercise 2**\n",
        "\n",
        "$$\n",
        "\\mathbf{D} =\n",
        "\\begin{pmatrix}\n",
        "1 & 0 & 2 \\\\\n",
        "-1 & 3 & 1 \\\\\n",
        "2 & 4 & -2\n",
        "\\end{pmatrix}\n",
        ", \\qquad\n",
        "\\mathbf{E} =\n",
        "\\begin{pmatrix}\n",
        "3 & 1 & -1 \\\\\n",
        "0 & 2 & 4 \\\\\n",
        "5 & 3 & 2\n",
        "\\end{pmatrix}\n",
        ", \\qquad\n",
        "\\mathbf{F} =\n",
        "\\begin{pmatrix}\n",
        "2 & -3 & 1 \\\\\n",
        "1 & 4 & -2 \\\\\n",
        "1 & 5 & 3\n",
        "\\end{pmatrix}\n",
        "$$\n",
        "\n",
        "Since $\\mathbf{D}, \\mathbf{E}, \\mathbf{F}$ are $3 \\times 3$ matrices, their determinants are computed as:\n",
        "$$\n",
        "\\text{det}(Z) = z_{11} \\cdot \\text{det}(Z_{11}) - z_{12} \\cdot \\text{det}(Z_{12}) + z_{13} \\cdot \\text{det}(Z_{13})\n",
        "$$\n",
        "\n",
        "$\n",
        "\\mathbf{det}(D) = 1 \\cdot\n",
        "\\begin{vmatrix}\n",
        "3 & 1 \\\\\n",
        "4 & -2\n",
        "\\end{vmatrix} - 0 + 2 \\cdot\n",
        "\\begin{vmatrix}\n",
        "-1 & 3 \\\\\n",
        "2 & 4\n",
        "\\end{vmatrix}\n",
        "= 1 \\cdot (-10) - 0 - 20 = -30\n",
        "$\n",
        "\n",
        "$\n",
        "\\mathbf{det}(E) = 3 \\cdot\n",
        "\\begin{vmatrix}\n",
        "2 & 4 \\\\\n",
        "3 & 2\n",
        "\\end{vmatrix} - 1 \\cdot\n",
        "\\begin{vmatrix}\n",
        "0 & 4 \\\\\n",
        "5 & 2\n",
        "\\end{vmatrix} + (-1) \\cdot\n",
        "\\begin{vmatrix}\n",
        "0 & 2 \\\\\n",
        "5 & 3\n",
        "\\end{vmatrix}\n",
        "= 3 \\cdot (-8) - 1 \\cdot (-20) + (-1) \\cdot (-10) = -24 + 20 + 10 = 14\n",
        "$\n",
        "\n",
        "$\n",
        "\\mathbf{det}(F) = 2 \\cdot\n",
        "\\begin{vmatrix}\n",
        "4 & -2 \\\\\n",
        "5 & 3\n",
        "\\end{vmatrix} - (-3) \\cdot\n",
        "\\begin{vmatrix}\n",
        "1 & -2 \\\\\n",
        "1 & 3\n",
        "\\end{vmatrix} + 1 \\cdot\n",
        "\\begin{vmatrix}\n",
        "1 & 4 \\\\\n",
        "1 & 5\n",
        "\\end{vmatrix}\n",
        "= 2 \\cdot 22 + 3 \\cdot 5 + 1 = 44 + 15 + 1 = 60\n",
        "$\n"
      ],
      "metadata": {
        "id": "e_2Tto7KrzAi"
      }
    },
    {
      "cell_type": "code",
      "source": [
        "import sympy as sp\n",
        "\n",
        "# Define the matrices\n",
        "mat_A = sp.Matrix([[2, 3], [1, 4]])\n",
        "mat_B = sp.Matrix([[5, 6], [7, 8]])\n",
        "mat_C = sp.Matrix([[-1, 2], [3, 0]])\n",
        "\n",
        "# Compute the determinants\n",
        "determinant_A = mat_A.det()\n",
        "determinant_B = mat_B.det()\n",
        "determinant_C = mat_C.det()\n",
        "\n",
        "# Output the results\n",
        "print(\"Determinant of Matrix A:\", determinant_A)  # Output: 5\n",
        "print(\"Determinant of Matrix B:\", determinant_B)  # Output: -2\n",
        "print(\"Determinant of Matrix C:\", determinant_C)  # Output: -6\n"
      ],
      "metadata": {
        "id": "9LSCC6OmsJZF"
      },
      "execution_count": null,
      "outputs": []
    },
    {
      "cell_type": "code",
      "source": [
        "import sympy as sp\n",
        "\n",
        "# Define the matrix M\n",
        "M = sp.Matrix([[2, -3, 1], [1, 4, -2], [1, 5, 3]])\n",
        "\n",
        "# Compute the determinant of M\n",
        "determinant_M = M.det()\n",
        "\n",
        "# Output the result\n",
        "print(determinant_M)  # Output: 60\n"
      ],
      "metadata": {
        "id": "RxpgExUxsP0U"
      },
      "execution_count": null,
      "outputs": []
    }
  ],
  "metadata": {
    "kernelspec": {
      "display_name": "Python 3",
      "language": "python",
      "name": "python3"
    },
    "language_info": {
      "codemirror_mode": {
        "name": "ipython",
        "version": 3
      },
      "file_extension": ".py",
      "mimetype": "text/x-python",
      "name": "python",
      "nbconvert_exporter": "python",
      "pygments_lexer": "ipython3",
      "version": "3.11.9"
    },
    "colab": {
      "provenance": [],
      "include_colab_link": true
    }
  },
  "nbformat": 4,
  "nbformat_minor": 0
}