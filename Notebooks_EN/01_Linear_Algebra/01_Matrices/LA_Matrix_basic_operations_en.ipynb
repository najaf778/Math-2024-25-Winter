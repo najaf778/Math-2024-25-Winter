{
  "nbformat": 4,
  "nbformat_minor": 0,
  "metadata": {
    "colab": {
      "provenance": [],
      "authorship_tag": "ABX9TyPAHwZE8gABCOMMNZWfjz+C",
      "include_colab_link": true
    },
    "kernelspec": {
      "name": "python3",
      "display_name": "Python 3"
    },
    "language_info": {
      "name": "python"
    }
  },
  "cells": [
    {
      "cell_type": "markdown",
      "metadata": {
        "id": "view-in-github",
        "colab_type": "text"
      },
      "source": [
        "<a href=\"https://colab.research.google.com/github/najaf778/Math-2024-25-Winter/blob/main/Notebooks_EN/01_Linear_Algebra/01_Matrices/LA_Matrix_basic_operations_en.ipynb\" target=\"_parent\"><img src=\"https://colab.research.google.com/assets/colab-badge.svg\" alt=\"Open In Colab\"/></a>"
      ]
    },
    {
      "cell_type": "markdown",
      "source": [
        "# Basic Matrix Operations\n",
        "\n",
        "### Matrix Addition\n",
        "\n",
        "Let $A=[a_{ij}]$ and $B=[b_{ij}]$ be two matrices of dimensions $m \\times n$. Then the sum of matrices $A$ and $B$ is the matrix $C=[c_{ij}]$ of dimensions $m \\times n$, where $c_{ij}=a_{ij}+b_{ij}$.\n",
        "\n",
        "### Matrix Scalar Multiplication\n",
        "\n",
        "Let $A=[a_{ij}]$ be a matrix of dimensions $m \\times n$, and let $k$ be a scalar. Then the product of matrix $A$ and scalar $k$ is the matrix $B=[b_{ij}]$ of dimensions $m \\times n$, where $b_{ij}=k \\cdot a_{ij}$.\n",
        "\n",
        "### Matrix Multiplication\n",
        "\n",
        "Let $A=[a_{ij}]$ be a matrix of dimensions $m \\times n$, and $B=[b_{ij}]$ be a matrix of dimensions $n \\times p$. Then the product of matrices $A$ and $B$ is the matrix $C=[c_{ij}]$ of dimensions $m \\times p$, where $c_{ij}=\\sum_{k=1}^{n} a_{ik} \\cdot b_{kj}$.\n",
        "\n",
        "\n",
        "### Example 1\n",
        "\n",
        "Let $A=\\begin{bmatrix} 1 & 2 \\\\ 3 & 4 \\end{bmatrix}$ and $B=\\begin{bmatrix} 5 & 6 \\\\ 7 & 8 \\end{bmatrix}$.\n",
        "Then the sum of matrices $A$ and $B$ is\n",
        "\n",
        "$$\n",
        "C=\n",
        "A+B=\\begin{bmatrix} 1+5 & 2+6 \\\\ 3+7 & 4+8 \\end{bmatrix}=\\begin{bmatrix} 6 & 8 \\\\ 10 & 12 \\end{bmatrix}.\n",
        "$$\n",
        "\n",
        "### Example 2\n",
        "\n",
        "Let $A=\\begin{bmatrix} 1 & 2 \\\\ 3 & 4 \\end{bmatrix}$ and $k=2$.\n",
        "\n",
        "Then the product of matrix $A$ and scalar $k$ is\n",
        "\n",
        "$$\n",
        "B=\n",
        "k \\cdot A=2 \\cdot \\begin{bmatrix} 1 & 2 \\\\ 3 & 4 \\end{bmatrix}=\\begin{bmatrix} 2*1 & 2*2 \\\\ 2*3 & 2*4 \\end{bmatrix}=\\begin{bmatrix} 2 & 4 \\\\ 6 & 8 \\end{bmatrix}.\n",
        "$$\n",
        "\n",
        "### Example 3\n",
        "\n",
        "Let\n",
        "$A=\\begin{bmatrix} 1 & 2 \\\\ 3 & 4 \\end{bmatrix}$\n",
        "and\n",
        "$B=\\begin{bmatrix} 5 & 6 \\\\ 7 & 8 \\end{bmatrix}$.\n",
        "\n",
        "Then the product of matrices $A$ and $B$ is\n",
        "\n",
        "$$\n",
        "C=\n",
        "A \\cdot B=\\begin{bmatrix} 1*5+2*7 & 1*6+2*8 \\\\ 3*5+4*7 & 3*6+4*8 \\end{bmatrix}=\\begin{bmatrix} 19 & 22 \\\\ 43 & 50 \\end{bmatrix}.\n",
        "$$"
      ],
      "metadata": {
        "id": "kQiYbrtBim0a"
      }
    },
    {
      "cell_type": "code",
      "execution_count": null,
      "metadata": {
        "id": "fFtgfVydXetk"
      },
      "outputs": [],
      "source": [
        "# Example 1: Matrix addition in sympy\n",
        "import sympy as sp\n",
        "\n",
        "A=sp.Matrix([[1,2],[3,4]])\n",
        "B=sp.Matrix([[5,6],[7,8]])\n",
        "A # display matrix A"
      ]
    },
    {
      "cell_type": "code",
      "execution_count": null,
      "metadata": {
        "id": "g-lFJDEWXetk"
      },
      "outputs": [],
      "source": [
        "B # display matrix B"
      ]
    },
    {
      "cell_type": "code",
      "execution_count": null,
      "metadata": {
        "id": "GiNLEjQLXetl"
      },
      "outputs": [],
      "source": [
        "sp.Matrix([[6,8],[10,12]])==A+B # verify matrix addition"
      ]
    },
    {
      "cell_type": "code",
      "execution_count": null,
      "metadata": {
        "id": "rhqELPenXetl"
      },
      "outputs": [],
      "source": [
        "# Example 2: Scalar multiplication\n",
        "A=sp.Matrix([[1,2],[3,4]]) # define matrix A\n",
        "\n",
        "sp.Matrix([[2,4],[6,8]])==2*A # verify scalar multiplication"
      ]
    },
    {
      "cell_type": "code",
      "execution_count": null,
      "metadata": {
        "id": "nNPuwJaTXetl"
      },
      "outputs": [],
      "source": [
        "# Example 3: Multiplication of two matrices\n",
        "\n",
        "A=sp.Matrix([[1,2],[3,4]]) # define matrix A\n",
        "B=sp.Matrix([[5,6],[7,8]]) # define matrix B\n",
        "\n",
        "sp.Matrix([[19,22],[43,50]])==A*B # verify matrix multiplication"
      ]
    },
    {
      "cell_type": "markdown",
      "source": [
        "### Necessary Condition for Matrix Multiplication\n",
        "\n",
        "Remember that matrices can have different numbers of rows and columns.\n",
        "\n",
        "To multiply two matrices $A_{m \\times n}$ and $B_{n \\times k}$, where $A$ has dimensions $m \\times n$ and $B$ has dimensions $n \\times k$, the number of columns of matrix $A$ must equal the number of rows of matrix $B$. Otherwise, matrix multiplication is not possible.\n",
        "\n",
        "$$\n",
        "A_{m \\times n} \\cdot B_{n \\times k} = C_{m \\times k}\n",
        "$$\n",
        "\n",
        "For example, if $A_{3 \\times 3}$ and $B_{3 \\times 3}$, then the resulting matrix $C_{3 \\times 3}$.\n",
        "\n",
        "<img src=\"https://www.mscroggs.co.uk/img/full/multiply_matrices.gif\" alt=\"Matrix Multiplication GIF\" width=\"400\">\n",
        "\n",
        "### Matrix Multiplication is Not Commutative\n",
        "\n",
        "Matrix multiplication is not commutative, i.e., in general $A \\cdot B \\neq B \\cdot A$."
      ],
      "metadata": {
        "id": "MsdzGvDcjP7p"
      }
    },
    {
      "cell_type": "code",
      "execution_count": null,
      "metadata": {
        "id": "u1YeF347Xetm"
      },
      "outputs": [],
      "source": [
        "# Example of multiplying rectangular matrices\n",
        "import sympy as sp\n",
        "A=sp.Matrix([[1,2],[3,4],[5,6]]) # define matrix A_{3 x 2}\n",
        "B=sp.Matrix([[1,2,3],[4,5,6]]) # define matrix B_{2 x 3}\n",
        "C=sp.Matrix([[9,12,15],[19,26,33],[29,40,51]]) # define matrix C_{3 x 3}\n",
        "\n",
        "A*B # multiply matrices A and B to get a 3x3 matrix"
      ]
    },
    {
      "cell_type": "code",
      "execution_count": null,
      "metadata": {
        "id": "kZ7y8fNvXetm"
      },
      "outputs": [],
      "source": [
        "B*A # multiply matrices B and A to get a 2x2 matrix"
      ]
    },
    {
      "cell_type": "code",
      "execution_count": null,
      "metadata": {
        "id": "9A2Wgh27Xetm"
      },
      "outputs": [],
      "source": [
        "B*C # multiply matrices B and C to get a 2x3 matrix"
      ]
    },
    {
      "cell_type": "markdown",
      "source": [
        "---\n",
        "## Exercises for Students\n",
        "\n",
        "1. Calculate the sum of matrices $A=\\begin{bmatrix} 1 & 2 \\\\ 3 & 4 \\end{bmatrix}$ and $B=\\begin{bmatrix} 5 & 6 \\\\ 7 & 8 \\end{bmatrix}$.\n",
        "\n",
        "2. Calculate the product of matrix $A=\\begin{bmatrix} 4 & 2 \\\\ 12 & 4 \\end{bmatrix}$ and scalar $k=\\frac{1}{4}$.\n",
        "\n",
        "3. Calculate the products $A\\cdot B$ and $B \\cdot A$ for matrices $A=\\begin{bmatrix} 3 & 2 \\\\ 2 & 4 \\end{bmatrix}$ and $B=\\begin{bmatrix} 4 & 1 \\\\ 6 & 4 \\end{bmatrix}$."
      ],
      "metadata": {
        "id": "8Gu6a6SPjjBJ"
      }
    },
    {
      "cell_type": "markdown",
      "source": [
        "# ***Homework***\n",
        "## **Exercise 1**\n",
        "Let\n",
        "$$\n",
        " A = \\begin{bmatrix} 1 & 2 \\\\ 3 & 4 \\end{bmatrix} \\quad \\text{and} \\quad B=\\begin{bmatrix} 5 & 6 \\\\ 7 & 8 \\end{bmatrix}.\n",
        "$$\n",
        "Since $A$ and $B$ are $2 \\times 2$ matrices, the sum of matrices is given by:\n",
        "$$\n",
        " C = A + B = \\begin{bmatrix} a_{11} + b_{11} & a_{12} + b_{12} \\\\ a_{21} + b_{21} & a_{22} + b_{22} \\end{bmatrix}.\n",
        "$$\n",
        "Substituting the values:\n",
        "$$\n",
        " C = \\begin{bmatrix} 1+5 & 2+6 \\\\ 3+7 & 4+8 \\end{bmatrix} = \\begin{bmatrix} 6 & 8 \\\\ 10 & 12 \\end{bmatrix}.\n",
        "$$\n",
        "\n",
        "## **Exercise 2**\n",
        "Let\n",
        "$$\n",
        "  A = \\begin{bmatrix} 4 & 2 \\\\ 12 & 4 \\end{bmatrix}\n",
        "$$\n",
        "and scalar\n",
        "$$\n",
        "  k = \\frac{1}{4}.\n",
        "$$\n",
        "The product of matrix $A$ and scalar $k$ is:\n",
        "$$\n",
        "  B = k \\cdot A = \\frac{1}{4} \\cdot \\begin{bmatrix} 4 & 2 \\\\ 12 & 4 \\end{bmatrix} = \\begin{bmatrix} \\frac{1}{4} \\cdot 4 & \\frac{1}{4} \\cdot 2 \\\\ \\frac{1}{4} \\cdot 12 & \\frac{1}{4} \\cdot 4 \\end{bmatrix} = \\begin{bmatrix} 1 & 0.5 \\\\ 3 & 1 \\end{bmatrix}.\n",
        "$$\n",
        "\n",
        "## **Exercise 3**\n",
        "Let\n",
        "$$\n",
        "  A = \\begin{bmatrix} 3 & 2 \\\\ 2 & 4 \\end{bmatrix} \\quad \\text{and} \\quad B = \\begin{bmatrix} 4 & 1 \\\\ 6 & 4 \\end{bmatrix}.\n",
        "$$\n",
        "The product of matrices $A$ and $B$ is given by:\n",
        "$$\n",
        "C = A \\cdot B = \\begin{bmatrix} a_{11}b_{11} + a_{12}b_{21} & a_{11}b_{12} + a_{12}b_{22} \\\\ a_{21}b_{11} + a_{22}b_{21} & a_{21}b_{12} + a_{22}b_{22} \\end{bmatrix}.\n",
        "$$\n",
        "Substituting the values:\n",
        "$$\n",
        "C = \\begin{bmatrix} 3 \\cdot 4 + 2 \\cdot 6 & 3 \\cdot 1 + 2 \\cdot 4 \\\\ 2 \\cdot 4 + 4 \\cdot 6 & 2 \\cdot 1 + 4 \\cdot 4 \\end{bmatrix} = \\begin{bmatrix} 24 & 11 \\\\ 32 & 18 \\end{bmatrix}.\n",
        "$$\n",
        "\n",
        "The product of matrices $B$ and $A$ is:\n",
        "$$\n",
        "D = B \\cdot A = \\begin{bmatrix} b_{11}a_{11} + b_{12}a_{21} & b_{11}a_{12} + b_{12}a_{22} \\\\ b_{21}a_{11} + b_{22}a_{21} & b_{21}a_{12} + b_{22}a_{22} \\end{bmatrix}.\n",
        "$$\n",
        "Substituting the values:\n",
        "$$\n",
        "D = \\begin{bmatrix} 4 \\cdot 3 + 1 \\cdot 2 & 4 \\cdot 2 + 1 \\cdot 4 \\\\ 6 \\cdot 3 + 4 \\cdot 2 & 6 \\cdot 2 + 4 \\cdot 4 \\end{bmatrix} = \\begin{bmatrix} 14 & 12 \\\\ 26 & 28 \\end{bmatrix}.\n",
        "$$\n"
      ],
      "metadata": {
        "id": "QliHWSlakfxW"
      }
    },
    {
      "cell_type": "code",
      "source": [
        "import numpy as np\n",
        "\n",
        "# Define two matrices\n",
        "matrix1 = np.array([[1, 2], [3, 4]])\n",
        "matrix2 = np.array([[5, 6], [7, 8]])\n",
        "\n",
        "# Compute their sum\n",
        "result_matrix = matrix1 + matrix2\n",
        "\n",
        "# Display the resulting matrix\n",
        "print(result_matrix)\n"
      ],
      "metadata": {
        "id": "Y6K5EuzHnr0a",
        "outputId": "4d975883-1865-4e5c-b3ad-954133a94dca",
        "colab": {
          "base_uri": "https://localhost:8080/"
        }
      },
      "execution_count": 1,
      "outputs": [
        {
          "output_type": "stream",
          "name": "stdout",
          "text": [
            "[[ 6  8]\n",
            " [10 12]]\n"
          ]
        }
      ]
    },
    {
      "cell_type": "code",
      "source": [
        "import numpy as np\n",
        "\n",
        "# Define matrix A\n",
        "A = np.array([[4, 2], [12, 4]])\n",
        "\n",
        "# Define scalar k\n",
        "k = 1/4\n",
        "\n",
        "# Calculate the product of matrix A and scalar k\n",
        "B = k * A\n",
        "\n",
        "# Print the resulting matrix B\n",
        "print(B)"
      ],
      "metadata": {
        "id": "wl13NK0Zn6s-",
        "outputId": "72011624-ea2c-4000-e471-e3d9285c2d7e",
        "colab": {
          "base_uri": "https://localhost:8080/"
        }
      },
      "execution_count": 2,
      "outputs": [
        {
          "output_type": "stream",
          "name": "stdout",
          "text": [
            "[[1.  0.5]\n",
            " [3.  1. ]]\n"
          ]
        }
      ]
    },
    {
      "cell_type": "code",
      "source": [
        "import numpy as np\n",
        "\n",
        "# Define matrices A and B\n",
        "A = np.array([[3, 2], [2, 4]])\n",
        "B = np.array([[4, 1], [6, 4]])\n",
        "\n",
        "# Calculate the product of A and B\n",
        "C = np.dot(A, B)  # or A @ B for Python 3.5+\n",
        "\n",
        "# Calculate the product of B and A\n",
        "D = np.dot(B, A)  # or B @ A for Python 3.5+\n",
        "\n",
        "# Print the resulting matrices C and D\n",
        "print(\"A * B:\\n\", C)\n",
        "print(\"\\nB * A:\\n\", D)"
      ],
      "metadata": {
        "id": "9jrp2k88n9e6",
        "outputId": "1cad42cf-2185-4395-932f-9dcc884dcc2b",
        "colab": {
          "base_uri": "https://localhost:8080/"
        }
      },
      "execution_count": 3,
      "outputs": [
        {
          "output_type": "stream",
          "name": "stdout",
          "text": [
            "A * B:\n",
            " [[24 11]\n",
            " [32 18]]\n",
            "\n",
            "B * A:\n",
            " [[14 12]\n",
            " [26 28]]\n"
          ]
        }
      ]
    }
  ]
}