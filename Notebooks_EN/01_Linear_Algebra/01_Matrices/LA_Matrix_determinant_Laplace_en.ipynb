{
  "cells": [
    {
      "cell_type": "markdown",
      "metadata": {
        "id": "view-in-github",
        "colab_type": "text"
      },
      "source": [
        "<a href=\"https://colab.research.google.com/github/najaf778/Math-2024-25-Winter/blob/main/Notebooks_EN/01_Linear_Algebra/01_Matrices/LA_Matrix_determinant_Laplace_en.ipynb\" target=\"_parent\"><img src=\"https://colab.research.google.com/assets/colab-badge.svg\" alt=\"Open In Colab\"/></a>"
      ]
    },
    {
      "cell_type": "markdown",
      "metadata": {
        "id": "A_pcaP-pptqa"
      },
      "source": [
        "# Determinants of 3x3 and 4x4 Matrices using Laplace expansion\n",
        "\n",
        "## Determinant of a 3x3 Matrix using Laplace expansion\n",
        "\n",
        "The general formula for the determinant of a 3x3 matrix is as follows:\n",
        "\n",
        "$$\n",
        "\\mathbf{A} =\n",
        "\\begin{pmatrix}\n",
        "a_{11} & a_{12} & a_{13} \\\\\n",
        "a_{21} & a_{22} & a_{23} \\\\\n",
        "a_{31} & a_{32} & a_{33}\n",
        "\\end{pmatrix}\n",
        "$$\n",
        "\n",
        "The determinant of a 3x3 matrix is calculated by expanding along the first row. We use Laplace expansion, which involves selecting elements of the first row and calculating the determinants of the 2x2 matrices that result from removing the appropriate rows and columns.\n",
        "\n",
        "Expanding along the first row of a 3x3 matrix:\n",
        "\n",
        "$$\n",
        "\\text{det}(A) =\n",
        "(-1)^{1+1}a_{11} \\cdot\n",
        "\\text{det}\n",
        "\\begin{pmatrix}\n",
        "a_{22} & a_{23} \\\\\n",
        "a_{32} & a_{33}\n",
        "\\end{pmatrix}\n",
        "+(-1)^{1+2} a_{12} \\cdot \\text{det}\n",
        "\\begin{pmatrix}\n",
        "a_{21} & a_{23} \\\\\n",
        "a_{31} & a_{33}\n",
        "\\end{pmatrix}\n",
        "+(-1)^{1+3}a_{13} \\cdot \\text{det}\n",
        "\\begin{pmatrix}\n",
        "a_{21} & a_{22} \\\\\n",
        "a_{31} & a_{32}\n",
        "\\end{pmatrix}\n",
        "$$\n",
        "\n",
        "### Example of a 3x3 Matrix\n",
        "\n",
        "For the matrix:\n",
        "\n",
        "$$\n",
        "\\mathbf{A} =\n",
        "\\begin{pmatrix}\n",
        "2 & 3 & 1 \\\\\n",
        "1 & 4 & 5 \\\\\n",
        "3 & 2 & 1\n",
        "\\end{pmatrix}\n",
        "$$\n",
        "\n",
        "Laplace expansion:\n",
        "\n",
        "$$\n",
        "\\text{det}(A) = 2 \\cdot\n",
        "\\text{det}\n",
        "\\begin{pmatrix}\n",
        "4 & 5 \\\\\n",
        "2 & 1\n",
        "\\end{pmatrix}\n",
        "- 3 \\cdot\n",
        "\\text{det}\n",
        "\\begin{pmatrix}\n",
        "1 & 5 \\\\\n",
        "3 & 1\n",
        "\\end{pmatrix}\n",
        "+ 1 \\cdot\n",
        "\\text{det}\n",
        "\\begin{pmatrix}\n",
        "1 & 4 \\\\\n",
        "3 & 2\n",
        "\\end{pmatrix}\n",
        "$$\n",
        "\n",
        "## Determinant of a 4x4 Matrix using Laplace Expansion\n",
        "\n",
        "The general formula for the determinant of a 4x4 matrix, where the matrix looks as follows:\n",
        "\n",
        "$$\n",
        "\\mathbf{B} =\n",
        "\\begin{pmatrix}\n",
        "a_{11} & a_{12} & a_{13} & a_{14} \\\\\n",
        "a_{21} & a_{22} & a_{23} & a_{24} \\\\\n",
        "a_{31} & a_{32} & a_{33} & a_{34} \\\\\n",
        "a_{41} & a_{42} & a_{43} & a_{44}\n",
        "\\end{pmatrix}\n",
        "$$\n",
        "\n",
        "The determinant of a 4x4 matrix is calculated by expanding along the first row. Similar to the 3x3 case, elements of the first row are multiplied by the determinants of the 3x3 matrices that result from removing the appropriate rows and columns.\n",
        "\n",
        "Expanding along the first row of a 4x4 matrix:\n",
        "\n",
        "$$\n",
        "\\text{det}(B) =\n",
        "(-1)^{1+1} \\cdot\n",
        "a_{11} \\cdot \\text{det}\n",
        "\\begin{pmatrix}\n",
        "a_{22} & a_{23} & a_{24} \\\\\n",
        "a_{32} & a_{33} & a_{34} \\\\\n",
        "a_{42} & a_{43} & a_{44}\n",
        "\\end{pmatrix}\n",
        "+ (-1)^{1+2} \\cdot\n",
        "a_{12} \\cdot \\text{det}\n",
        "\\begin{pmatrix}\n",
        "a_{21} & a_{23} & a_{24} \\\\\n",
        "a_{31} & a_{33} & a_{34} \\\\\n",
        "a_{41} & a_{43} & a_{44}\n",
        "\\end{pmatrix}\n",
        "+ (-1)^{1+3} \\cdot\n",
        "a_{13} \\cdot \\text{det}\n",
        "\\begin{pmatrix}\n",
        "a_{21} & a_{22} & a_{24} \\\\\n",
        "a_{31} & a_{32} & a_{34} \\\\\n",
        "a_{41} & a_{42} & a_{44}\n",
        "\\end{pmatrix}\n",
        "+ (-1)^{1+4} \\cdot\n",
        "a_{14} \\cdot \\text{det}\n",
        "\\begin{pmatrix}\n",
        "a_{21} & a_{22} & a_{23} \\\\\n",
        "a_{31} & a_{32} & a_{33} \\\\\n",
        "a_{41} & a_{42} & a_{43}\n",
        "\\end{pmatrix}\n",
        "$$\n",
        "\n",
        "### Example of a 4x4 Matrix\n",
        "\n",
        "For the matrix:\n",
        "\n",
        "$$\n",
        "\\mathbf{B} =\n",
        "\\begin{pmatrix}\n",
        "2 & 3 & 1 & 4 \\\\\n",
        "1 & 4 & 5 & 6 \\\\\n",
        "3 & 2 & 1 & 5 \\\\\n",
        "2 & 1 & 4 & 3\n",
        "\\end{pmatrix}\n",
        "$$\n",
        "\n",
        "Laplace expansion:\n",
        "\n",
        "$$\n",
        "\\text{det}(B) = 2 \\cdot \\text{det}\n",
        "\\begin{pmatrix}\n",
        "4 & 5 & 6 \\\\\n",
        "2 & 1 & 5 \\\\\n",
        "1 & 4 & 3\n",
        "\\end{pmatrix}\n",
        "- 3 \\cdot \\text{det}\n",
        "\\begin{pmatrix}\n",
        "1 & 5 & 6 \\\\\n",
        "3 & 1 & 5 \\\\\n",
        "2 & 4 & 3\n",
        "\\end{pmatrix}\n",
        "+ 1 \\cdot \\text{det}\n",
        "\\begin{pmatrix}\n",
        "1 & 4 & 6 \\\\\n",
        "3 & 2 & 5 \\\\\n",
        "2 & 1 & 3\n",
        "\\end{pmatrix}\n",
        "- 4 \\cdot \\text{det}\n",
        "\\begin{pmatrix}\n",
        "1 & 4 & 5 \\\\\n",
        "3 & 2 & 1 \\\\\n",
        "2 & 1 & 4\n",
        "\\end{pmatrix}\n",
        "$$\n",
        "\n",
        "### Calculating Determinants in Python using SymPy\n",
        "\n",
        "Below we will calculate the determinants of 3x3 and 4x4 matrices using Laplace expansion in Python, using the **SymPy** library."
      ]
    },
    {
      "cell_type": "code",
      "execution_count": null,
      "metadata": {
        "id": "HLdKa5hLptqb",
        "outputId": "7a95b804-2856-4d21-945f-ef63bd0d4955"
      },
      "outputs": [
        {
          "data": {
            "text/latex": [
              "$\\displaystyle \\left[\\begin{matrix}2 & 3 & 1\\\\1 & 4 & 5\\\\3 & 2 & 1\\end{matrix}\\right]$"
            ],
            "text/plain": [
              "Matrix([\n",
              "[2, 3, 1],\n",
              "[1, 4, 5],\n",
              "[3, 2, 1]])"
            ]
          },
          "execution_count": 1,
          "metadata": {},
          "output_type": "execute_result"
        }
      ],
      "source": [
        "import sympy as sp\n",
        "\n",
        "# 3x3 Matrix\n",
        "A = sp.Matrix([[2, 3, 1], [1, 4, 5], [3, 2, 1]])\n",
        "A"
      ]
    },
    {
      "cell_type": "code",
      "execution_count": null,
      "metadata": {
        "id": "2HFyv5_cptqb",
        "outputId": "7900f16e-3163-496e-9ae1-d0a50ec252d9"
      },
      "outputs": [
        {
          "data": {
            "text/plain": [
              "True"
            ]
          },
          "execution_count": 2,
          "metadata": {},
          "output_type": "execute_result"
        }
      ],
      "source": [
        "# Select the first row [2, 3, 1]\n",
        "# Define the appropriate minors\n",
        "M11 = sp.Matrix([[4, 5], [2, 1]])\n",
        "M12 = sp.Matrix([[1, 5], [3, 1]])\n",
        "M13 = sp.Matrix([[1, 4], [3, 2]])\n",
        "\n",
        "# Calculate the determinant\n",
        "d = 2*M11.det() - 3*M12.det() + 1*M13.det()\n",
        "\n",
        "d == A.det()"
      ]
    },
    {
      "cell_type": "code",
      "execution_count": null,
      "metadata": {
        "id": "uDhTIkGfptqb",
        "outputId": "9474a888-0617-4567-9a57-549fe99656e0"
      },
      "outputs": [
        {
          "data": {
            "text/latex": [
              "$\\displaystyle \\left[\\begin{matrix}2 & 0 & 1 & 0\\\\1 & 4 & 5 & 6\\\\3 & 2 & 1 & 5\\\\2 & 1 & 4 & 3\\end{matrix}\\right]$"
            ],
            "text/plain": [
              "Matrix([\n",
              "[2, 0, 1, 0],\n",
              "[1, 4, 5, 6],\n",
              "[3, 2, 1, 5],\n",
              "[2, 1, 4, 3]])"
            ]
          },
          "execution_count": 3,
          "metadata": {},
          "output_type": "execute_result"
        }
      ],
      "source": [
        "# 4x4 Matrix\n",
        "B = sp.Matrix([[2, 0, 1, 0], [1, 4, 5, 6], [3, 2, 1, 5], [2, 1, 4, 3]])\n",
        "B"
      ]
    },
    {
      "cell_type": "code",
      "execution_count": null,
      "metadata": {
        "id": "mzjS7rqmptqc",
        "outputId": "c87dc75f-f1df-43ed-e879-c7c9159c632a"
      },
      "outputs": [
        {
          "data": {
            "text/plain": [
              "True"
            ]
          },
          "execution_count": 4,
          "metadata": {},
          "output_type": "execute_result"
        }
      ],
      "source": [
        "# Verify the correctness of the calculations\n",
        "M11 = sp.Matrix([[4, 5, 6], [2, 1, 5], [1, 4, 3]])\n",
        "M12 = sp.Matrix([[1, 5, 6], [3, 1, 5], [2, 4, 3]])\n",
        "M13 = sp.Matrix([[1, 4, 6], [3, 2, 5], [2, 1, 3]])\n",
        "M14 = sp.Matrix([[1, 4, 5], [3, 2, 1], [2, 1, 4]])\n",
        "\n",
        "(2*M11.det() - 0*M12.det() + 1*M13.det() - 0*M14.det()) == B.det()\n",
        "\n",
        "d = 2*M11.det() - 0*M12.det() + 1*M13.det() - 0*M14.det()\n",
        "d == B.det()"
      ]
    },
    {
      "cell_type": "markdown",
      "metadata": {
        "id": "MstsA1OZptqc"
      },
      "source": [
        "Note that only the first and third terms have non-zero coefficients, so it is not necessary to calculate the determinants of all minors!\n",
        "\n",
        "---\n",
        "\n",
        "## Exercises for Students\n",
        "\n",
        "Calculate the determinants of the following matrices:\n",
        "\n",
        "$$\n",
        "\\mathbf{A} =\n",
        "\\begin{pmatrix}\n",
        "2 & 3 & 1 \\\\\n",
        "1 & 4 & 0 \\\\\n",
        "3 & 2 & 1\n",
        "\\end{pmatrix}\n",
        ",\\qquad\n",
        "\\mathbf{B} =\n",
        "\\begin{pmatrix}\n",
        "2 & 3 & 1 \\\\\n",
        "1 & 4 & 0 \\\\\n",
        "3 & 2 & 0  \\\\\n",
        "\\end{pmatrix}\n",
        ",\\qquad\n",
        "\\mathbf{C} =\n",
        "\\begin{pmatrix}\n",
        "2 & 3 & 1 & 4 \\\\\n",
        "1 & 0 & 0 & 6 \\\\\n",
        "3 & 2 & 1 & 5 \\\\\n",
        "2 & 1 & 4 & 0\n",
        "\\end{pmatrix}\n",
        ",\\qquad\n",
        "\\mathbf{D} =\n",
        "\\begin{pmatrix}\n",
        "2 & 3 & 1 & 4 & 5 \\\\\n",
        "1 & 4 & 0 & 0 & 7 \\\\\n",
        "3 & 0 & 0 & 0 & 0 \\\\\n",
        "2 & 1 & 4 & 3 & 2 \\\\\n",
        "1 & 2 & 3 & 4 & 5\n",
        "\\end{pmatrix}\n",
        "$$"
      ]
    },
    {
      "cell_type": "markdown",
      "source": [
        "# ***Homework***\n",
        "$\n",
        "  \\mathbf{A} =\n",
        "  \\begin{pmatrix}\n",
        "  2 & 3 & 1 \\\\\n",
        "  1 & 4 & 0 \\\\\n",
        "  3 & 2 & 1\n",
        "  \\end{pmatrix}\n",
        "$\n",
        "\n",
        "$\n",
        "  \\mathbf{det}(A) = 2 \\cdot \\begin{vmatrix} 4 & 0 \\\\ 2 & 1 \\end{vmatrix}\n",
        "  - 3 \\cdot \\begin{vmatrix} 1 & 0 \\\\ 3 & 1 \\end{vmatrix}\n",
        "  + 1 \\cdot \\begin{vmatrix} 1 & 4 \\\\ 3 & 2 \\end{vmatrix}\n",
        "  = 2 \\cdot (4 \\cdot 1 - 0 \\cdot 2)\n",
        "  - 3 \\cdot (1 \\cdot 1 - 0 \\cdot 3)\n",
        "  + 1 \\cdot (1 \\cdot 2 - 4 \\cdot 3)\n",
        "  = 8 - 3 - 10 = -5.\n",
        "$\n",
        "\n",
        "$\n",
        "  \\mathbf{B} =\n",
        "  \\begin{pmatrix}\n",
        "  2 & 3 & 1 \\\\\n",
        "  1 & 4 & 0 \\\\\n",
        "  3 & 2 & 0\n",
        "  \\end{pmatrix}\n",
        "$\n",
        "\n",
        "$\n",
        "  \\mathbf{det}(B) = 2 \\cdot \\begin{vmatrix} 4 & 0 \\\\ 2 & 0 \\end{vmatrix}\n",
        "  - 3 \\cdot \\begin{vmatrix} 1 & 0 \\\\ 3 & 0 \\end{vmatrix}\n",
        "  + 1 \\cdot \\begin{vmatrix} 1 & 4 \\\\ 3 & 2 \\end{vmatrix}\n",
        "  = 2 \\cdot (4 \\cdot 0 - 0 \\cdot 2)\n",
        "  - 3 \\cdot (1 \\cdot 0 - 0 \\cdot 3)\n",
        "  + 1 \\cdot (1 \\cdot 2 - 4 \\cdot 3)\n",
        "  = 0 - 0 - 10 = -10.\n",
        "$\n",
        "\n",
        "$\n",
        "  \\mathbf{C} =\n",
        "  \\begin{pmatrix}\n",
        "  2 & 3 & 1 & 4 \\\\\n",
        "  1 & 0 & 0 & 6 \\\\\n",
        "  3 & 2 & 1 & 5 \\\\\n",
        "  2 & 1 & 4 & 0\n",
        "  \\end{pmatrix}\n",
        "$\n",
        "\n",
        "$\n",
        "  \\mathbf{det}(C) = 1 \\cdot \\begin{vmatrix} 3 & 1 & 4 \\\\ 2 & 1 & 5 \\\\ 1 & 4 & 0 \\end{vmatrix}\n",
        "  - 0 + 0 - 6 \\cdot \\begin{vmatrix} 2 & 3 & 1 \\\\ 3 & 2 & 1 \\\\ 2 & 1 & 4 \\end{vmatrix}\n",
        "  = 1 \\cdot (-1 \\cdot \\begin{vmatrix} 1 & 4 \\\\ 1 & 5 \\end{vmatrix}\n",
        "  + 4 \\cdot \\begin{vmatrix} 3 & 4 \\\\ 2 & 5 \\end{vmatrix} - 0)\n",
        "  - 6 \\cdot (2 \\cdot \\begin{vmatrix} 2 & 1 \\\\ 1 & 4 \\end{vmatrix}\n",
        "  - 3 \\cdot \\begin{vmatrix} 3 & 1 \\\\ 2 & 4 \\end{vmatrix}\n",
        "  + 1 \\cdot \\begin{vmatrix} 3 & 2 \\\\ 2 & 1 \\end{vmatrix})\n",
        "  = 1 \\cdot (-1 + 28) - 6 \\cdot (14 - 30 - 1) = 27 - 102 = -75.\n",
        "$\n",
        "\n",
        "$\n",
        "  \\mathbf{D} =\n",
        "  \\begin{pmatrix}\n",
        "  2 & 3 & 1 & 4 & 5 \\\\\n",
        "  1 & 4 & 0 & 0 & 7 \\\\\n",
        "  3 & 0 & 0 & 0 & 0 \\\\\n",
        "  2 & 1 & 4 & 3 & 2 \\\\\n",
        "  1 & 2 & 3 & 4 & 5\n",
        "  \\end{pmatrix}\n",
        "$\n",
        "\n",
        "$\n",
        "  \\mathbf{det}(D) = -3 \\cdot \\begin{vmatrix} 3 & 1 & 4 & 5 \\\\ 4 & 0 & 0 & 7 \\\\ 1 & 4 & 3 & 2 \\\\ 2 & 3 & 4 & 5 \\end{vmatrix}\n",
        "  + 0 - 0 + 0 - 0\n",
        "  = -3 \\cdot (4 \\cdot \\begin{vmatrix} 1 & 4 & 5 \\\\ 4 & 3 & 2 \\\\ 3 & 4 & 5 \\end{vmatrix}\n",
        "  - 0 + 0 - 7 \\cdot \\begin{vmatrix} 3 & 1 & 4 \\\\ 1 & 4 & 3 \\\\ 2 & 3 & 4 \\end{vmatrix})\n",
        "  = -3 \\cdot (4 \\cdot (1 \\cdot \\begin{vmatrix} 3 & 2 \\\\ 4 & 5 \\end{vmatrix}\n",
        "  - 4 \\cdot \\begin{vmatrix} 4 & 2 \\\\ 3 & 5 \\end{vmatrix}\n",
        "  + 5 \\cdot \\begin{vmatrix} 4 & 3 \\\\ 3 & 4 \\end{vmatrix})\n",
        "  - 7 \\cdot (3 \\cdot \\begin{vmatrix} 4 & 3 \\\\ 3 & 4 \\end{vmatrix}\n",
        "  - 1 \\cdot \\begin{vmatrix} 1 & 3 \\\\ 2 & 4 \\end{vmatrix}\n",
        "  + 4 \\cdot \\begin{vmatrix} 1 & 4 \\\\ 2 & 3 \\end{vmatrix}))\n",
        "  = -3 \\cdot (4 \\cdot (-14) - 7 \\cdot 3) = 231.\n",
        "$\n"
      ],
      "metadata": {
        "id": "PSJmdi5lqQrl"
      }
    },
    {
      "cell_type": "code",
      "source": [
        "import sympy as sp\n",
        "\n",
        "# Define Matrix A\n",
        "A = sp.Matrix([[3, 2, 1], [1, 5, 0], [4, 3, 2]])\n",
        "det_A = A.det()\n",
        "print(f\"Determinant of A: {det_A}\")\n",
        "\n",
        "# Define Matrix B\n",
        "B = sp.Matrix([[3, 2, 1], [1, 5, 0], [4, 3, 0]])\n",
        "det_B = B.det()\n",
        "print(f\"Determinant of B: {det_B}\")\n",
        "\n",
        "# Define Matrix C\n",
        "C = sp.Matrix([[3, 2, 1, 5], [1, 0, 0, 7], [4, 3, 2, 6], [2, 1, 5, 0]])\n",
        "det_C = C.det()\n",
        "print(f\"Determinant of C: {det_C}\")\n",
        "\n",
        "# Define Matrix D\n",
        "D = sp.Matrix([[3, 2, 1, 5, 6], [1, 5, 0, 0, 8], [4, 0, 0, 0, 0], [2, 1, 5, 4, 3], [1, 3, 4, 5, 6]])\n",
        "det_D = D.det()\n",
        "print(f\"Determinant of D: {det_D}\")\n"
      ],
      "metadata": {
        "id": "Ews8f143qgpY"
      },
      "execution_count": null,
      "outputs": []
    }
  ],
  "metadata": {
    "kernelspec": {
      "display_name": "Python 3",
      "language": "python",
      "name": "python3"
    },
    "language_info": {
      "codemirror_mode": {
        "name": "ipython",
        "version": 3
      },
      "file_extension": ".py",
      "mimetype": "text/x-python",
      "name": "python",
      "nbconvert_exporter": "python",
      "pygments_lexer": "ipython3",
      "version": "3.11.9"
    },
    "colab": {
      "provenance": [],
      "include_colab_link": true
    }
  },
  "nbformat": 4,
  "nbformat_minor": 0
}