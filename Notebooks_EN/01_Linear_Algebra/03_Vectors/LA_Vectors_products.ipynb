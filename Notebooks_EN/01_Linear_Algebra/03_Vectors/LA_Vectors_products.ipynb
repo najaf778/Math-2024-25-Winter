{
  "cells": [
    {
      "cell_type": "markdown",
      "metadata": {
        "id": "view-in-github",
        "colab_type": "text"
      },
      "source": [
        "<a href=\"https://colab.research.google.com/github/najaf778/Math-2024-25-Winter/blob/main/Notebooks_EN/01_Linear_Algebra/03_Vectors/LA_Vectors_products.ipynb\" target=\"_parent\"><img src=\"https://colab.research.google.com/assets/colab-badge.svg\" alt=\"Open In Colab\"/></a>"
      ]
    },
    {
      "cell_type": "markdown",
      "metadata": {
        "id": "SuJNG5kJdddi"
      },
      "source": [
        "# Vectors - Scalar, Vector, Mixed Products\n",
        "\n",
        "## Scalar Product\n",
        "\n",
        "The scalar product (also called the dot product) of two vectors is an operation that returns a scalar value. It is defined as the sum of the products of the corresponding components of two vectors.\n",
        "\n",
        "For two vectors $\\mathbf{a}$ and $\\mathbf{b}$ in the space $\\mathbb{R}^n$, where:\n",
        "\n",
        "$$\n",
        "\\mathbf{a} = [a_1, a_2, \\dots, a_n], \\quad \\mathbf{b} = [b_1, b_2, \\dots, b_n]\n",
        "$$\n",
        "\n",
        "The scalar product is defined as follows:\n",
        "\n",
        "$$\n",
        "\\mathbf{a} \\cdot \\mathbf{b} = a_1b_1 + a_2b_2 + \\dots + a_nb_n = \\sum_{i=1}^{n} a_i b_i\n",
        "$$\n",
        "\n",
        "Example for three-dimensional space ($ \\mathbb{R}^3 $):\n",
        "\n",
        "For vectors $\\mathbf{a} = [a_1, a_2, a_3]$ and $\\mathbf{b} = [b_1, b_2, b_3]$, the scalar product is:\n",
        "\n",
        "$$\n",
        "\\mathbf{a} \\cdot \\mathbf{b} = a_1b_1 + a_2b_2 + a_3b_3\n",
        "$$\n",
        "\n",
        "The scalar product returns a number that measures the \"similarity of direction\" between two vectors. If $\\mathbf{a} \\cdot \\mathbf{b} = 0$, the vectors are perpendicular.\n",
        "\n",
        "Alternatively, the scalar product can be expressed as:\n",
        "\n",
        "$$\n",
        "\\mathbf{a} \\cdot \\mathbf{b} = \\|\\mathbf{a}\\| \\|\\mathbf{b}\\| \\cos(\\theta),\n",
        "$$\n",
        "which is the product of the magnitudes of vectors $\\mathbf{a}$ and $\\mathbf{b}$ multiplied by the cosine of the angle between them.\n",
        "\n",
        "## Vector Product\n",
        "\n",
        "The vector product (also called the cross product) is an operation that returns a new vector perpendicular to the two input vectors. It is defined only in three-dimensional space $ \\mathbb{R}^3 $.\n",
        "\n",
        "For two vectors $ \\mathbf{a} = [a_1, a_2, a_3] $ and $ \\mathbf{b} = [b_1, b_2, b_3] $, the vector product $ \\mathbf{a} \times \\mathbf{b} $ is defined as:\n",
        "\n",
        "$$ \\mathbf{a} \t\\times \\mathbf{b} =\n",
        "\\begin{vmatrix}\n",
        "\\mathbf{i} & \\mathbf{j} & \\mathbf{k} \\\\\n",
        "a_1 & a_2 & a_3 \\\\\n",
        "b_1 & b_2 & b_3\n",
        "\\end{vmatrix}\n",
        "$$\n",
        "\n",
        "Where $ \\mathbf{i}, \\mathbf{j}, \\mathbf{k} $ are unit vectors along the $ x, y, z $ axes. Interestingly, to calculate the vector product and obtain the resulting vector, we use the determinant (a scalar) of the matrix (a second-order tensor) whose rows are the basis vectors (vectors) and the components of the vectors (scalars).\n",
        "\n",
        "The vector product can be expressed in expanded form:\n",
        "\n",
        "$$ \\mathbf{a} \t\\times \\mathbf{b} = \\left( a_2b_3 - a_3b_2 \\right)\\mathbf{i} - \\left( a_1b_3 - a_3b_1 \\right)\\mathbf{j} + \\left( a_1b_2 - a_2b_1 \\right)\\mathbf{k} $$\n",
        "\n",
        "The result of the vector product is a new vector:\n",
        "\n",
        "$$ \\mathbf{c} = \\mathbf{a} \t\\times \\mathbf{b} = [a_2b_3 - a_3b_2, a_3b_1 - a_1b_3, a_1b_2 - a_2b_1] $$\n",
        "\n",
        "The vector product returns a vector $\\mathbf{c}$ perpendicular to the plane defined by $ \\mathbf{a} $ and $ \\mathbf{b} $, and its magnitude is equal to the area of the parallelogram whose sides are defined by the vectors $ \\mathbf{a} $ and $ \\mathbf{b} $\n",
        "$$\n",
        "|\\mathbf{c}| = |\\mathbf{a}| |\\mathbf{b}| \\sin \\theta\n",
        "$$\n",
        "\n",
        "where $\theta$ is the angle between the vectors. The direction of vector $\\vec{c}$ is determined by the right-hand rule.\n",
        "\n",
        "## Mixed Product\n",
        "\n",
        "The mixed product of three vectors $\\mathbf{a}, \\mathbf{b}, \\mathbf{c}$ is defined as:\n",
        "\n",
        "$$\n",
        "\\mathbf{a} \\cdot \\left( \\mathbf{b} \\times \\mathbf{c} \\right)\n",
        "$$\n",
        "\n",
        "This is equivalent to the scalar product $\\mathbf{a} \\times \\left( \\mathbf{b} \\times \\mathbf{c} \\right)$.\n",
        "\n",
        "The mixed product is equal to zero if the vectors $\\mathbf{a}, \\mathbf{b}, \\mathbf{c}$ are collinear or parallel.\n",
        "\n",
        "The volume of the parallelepiped defined by three vectors $\\mathbf{a}, \\mathbf{b}, \\mathbf{c}$ is equal to the absolute value of the mixed product of these vectors.\n",
        "\n",
        "## Implementation"
      ]
    },
    {
      "cell_type": "code",
      "execution_count": null,
      "metadata": {
        "id": "4UP4CrH1dddj"
      },
      "outputs": [],
      "source": [
        "import sympy as sp\n",
        "# Vector definitions\n",
        "a = sp.Matrix([1, 2, 3])\n",
        "b = sp.Matrix([4, 5, 6])\n",
        "c = sp.Matrix([7, 0, 9])\n",
        "d = sp.Matrix([0, 2, 0])"
      ]
    },
    {
      "cell_type": "code",
      "execution_count": null,
      "metadata": {
        "id": "tZN73PD4dddk"
      },
      "outputs": [],
      "source": [
        "# Display vector c\n",
        "c"
      ]
    },
    {
      "cell_type": "code",
      "execution_count": null,
      "metadata": {
        "id": "-8SGKCo7dddk"
      },
      "outputs": [],
      "source": [
        "# Adding vectors a and b\n",
        "a + b"
      ]
    },
    {
      "cell_type": "code",
      "execution_count": null,
      "metadata": {
        "id": "AdPHl2RNdddk"
      },
      "outputs": [],
      "source": [
        "# Dot product of a and b\n",
        "(1*4 + 2*5 + 3*6) == a.dot(b)"
      ]
    },
    {
      "cell_type": "code",
      "execution_count": null,
      "metadata": {
        "id": "jDmSTQS3dddl"
      },
      "outputs": [],
      "source": [
        "# Cross product of a and c\n",
        "# a = [1, 2, 3]\n",
        "# c = [7, 0, 9]\n",
        "\n",
        "# As an aid, write the vectors as 3x3 matrices\n",
        "# i, j, k\n",
        "# 1, 2, 3\n",
        "# 7, 0, 9\n",
        "\n",
        "# Now\n",
        "comp1 = (2*9 - 3*0)\n",
        "comp2 = -(1*9 - 3*7)\n",
        "comp3 = (1*0 - 2*7)\n",
        "\n",
        "# Result\n",
        "sp.Matrix([comp1, comp2, comp3]) == a.cross(c)"
      ]
    },
    {
      "cell_type": "code",
      "execution_count": null,
      "metadata": {
        "id": "IYlmjAwQdddl"
      },
      "outputs": [],
      "source": [
        "# Perpendicularity of vectors\n",
        "# c = [7, 0, 9]\n",
        "# d = [0, 2, 0]\n",
        "\n",
        "# If the dot product of vectors is equal to 0, they are perpendicular\n",
        "dot_product = 7*0 + 0*2 + 9*0\n",
        "dot_product == 0"
      ]
    },
    {
      "cell_type": "markdown",
      "metadata": {
        "id": "zHsZ_n3Idddl"
      },
      "source": [
        "## Applications\n",
        "\n",
        "### Calculating the Angle Between Vectors\n",
        "\n",
        "$$\n",
        "\\cos \\theta = \\frac{\\mathbf{a} \\cdot \\mathbf{b}}{\\|\\mathbf{a}\\| \\|\\mathbf{b}\\|}\n",
        "$$\n",
        "\n",
        "### Checking Vector Perpendicularity\n",
        "\n",
        "Vectors $\\mathbf{a}$ and $\\mathbf{b}$ are perpendicular if their dot product is zero:\n",
        "$$\n",
        "\\mathbf{a} \\cdot \\mathbf{b} = 0\n",
        "\\quad \\Leftrightarrow \\quad\n",
        " \\mathbf{a} \\perp \\mathbf{b}\n",
        "$$\n",
        "\n",
        "### Finding Projections of Vectors onto Other Vectors\n",
        "\n",
        "$$\n",
        "\\text{Projection} = \\frac{\\mathbf{a} \\cdot \\mathbf{b}}{\\|\\mathbf{b}\\|}\n",
        "$$\n",
        "\n",
        "### Calculating Work Done by a Force in Physics\n",
        "\n",
        "For a force $\\mathbf{F} = (F_x, F_y, F_z)$ acting along a displacement $\\mathbf{d} = (d_x, d_y, d_z)$, work is calculated as:\n",
        "\n",
        "$$\n",
        "W = \\mathbf{F} \\cdot \\mathbf{d} = |\\mathbf{F}| |\\mathbf{d}| \\cos \\theta = F_x d_x + F_y d_y + F_z d_z\n",
        "$$\n",
        "\n",
        "### Torque\n",
        "\n",
        "In physics: torque is the vector product of the force vector and the arm of the force:\n",
        "\n",
        "$$\n",
        "\\mathbf{M} = \\mathbf{r} \\times \\mathbf{F}\n",
        "$$\n",
        "\n",
        "### Calculating the Area of a Parallelogram\n",
        "\n",
        "The area of a parallelogram spanned by two vectors:\n",
        "\n",
        "$$\n",
        "\\text{Area}_{r} = \\mathbf{a} \\times \\mathbf{b} = |\\mathbf{a}| |\\mathbf{b}| \\sin \\theta\n",
        "$$\n",
        "\n",
        "### Calculating the Area of a Triangle\n",
        "\n",
        "The area of a triangle spanned by two vectors $\\mathbf{a}$ and $\\mathbf{b}$:\n",
        "\n",
        "$$\n",
        "\\text{Area}_{t} = \\frac{1}{2} |\\mathbf{a} \\times \\mathbf{b}|\n",
        "$$\n",
        "\n",
        "### Calculating the Volume of Parallelepipeds and Tetrahedrons\n",
        "\n",
        "The mixed product of vectors is used to calculate the volume of parallelepipeds and tetrahedrons. For three vectors **$\\mathbf{a}$**, **$\\mathbf{b}$**, and **$\\mathbf{c}$**, the volume of the parallelepiped is given by:\n",
        "\n",
        "$$\n",
        "V = |\\mathbf{a} \\cdot (\\mathbf{b} \\times \\mathbf{c})|\n",
        "$$\n",
        "(Note: **| |** here denotes the absolute value, not the magnitude!)\n",
        "\n",
        "### Checking Coplanarity of Three Vectors\n",
        "\n",
        "If the mixed product of three vectors is equal to zero, it means that the vectors are coplanar. Otherwise, they form a tetrahedron.\n",
        "\n",
        "---\n",
        "\n",
        "## Student Exercises\n",
        "\n",
        "A. Perform the addition of vector $[2, 1]$ to vector $[-1, 1]$. Plot both vectors and their sum on a graph.\n",
        "\n",
        "B. Calculate the area of the triangle spanned by vectors $[2, 1]$ and $[-1, 1]$.\n",
        "\n",
        "C. Calculate the volume of the parallelepiped spanned by vectors $[2, 1]$, $[-1, 1]$, and $[1, 2]$.\n",
        "\n",
        "D. Check if vectors $[2, 1]$ and $[-1, 1]$ are perpendicular.\n",
        "\n",
        "E. Calculate the angle in degrees between vectors $[4,2,1]$ and $[1,3,2]$.\n",
        "\n",
        "F. For three-dimensional vectors: $\\mathbf{a}=[a_x, a_y, a_z]$, $\\mathbf{b}=[b_x, b_y, b_z]$, $\\mathbf{c}=[c_x, c_y, c_z]$, prove that the following identity is satisfied:\n",
        "\n",
        "$$\n",
        "\\mathbf{a} \\times (\\mathbf{b} \\times \\mathbf{c}) = (\\mathbf{a} \\cdot \\mathbf{c}) \\mathbf{b} - (\\mathbf{a} \\cdot \\mathbf{b}) \\mathbf{c}.\n",
        "$$"
      ]
    },
    {
      "cell_type": "markdown",
      "source": [
        "# *Homework*\n",
        "## **Exercise 1**\n",
        "$\\vec{a}=[2,1]$ $\\vec{b}=[-1,1]$\n",
        "\n",
        "$\\vec{c}=\\vec{a} + \\vec{b}=[1,2]$"
      ],
      "metadata": {
        "id": "1NLRNPD7eG0e"
      }
    },
    {
      "cell_type": "code",
      "source": [
        "import matplotlib.pyplot as plt\n",
        "\n",
        "# Create a new figure\n",
        "fig, ax = plt.subplots()\n",
        "ax.quiver(0, 0, 2, 1, angles='xy', scale_units='xy', scale=1, color='red')\n",
        "ax.quiver(0, 0, -1, 1, angles='xy', scale_units='xy', scale=1, color='blue')\n",
        "ax.quiver(0, 0, 1, 2, angles='xy', scale_units='xy', scale=1, color='green')\n",
        "\n",
        "# Set axis limits\n",
        "ax.set_xlim(-1, 4)\n",
        "ax.set_ylim(-1, 4)\n",
        "\n",
        "# Display grid\n",
        "ax.grid(True)\n",
        "ax.set_aspect('equal')\n",
        "\n",
        "plt.show()\n"
      ],
      "metadata": {
        "colab": {
          "base_uri": "https://localhost:8080/",
          "height": 435
        },
        "id": "At1lf00fecrk",
        "outputId": "62cbf7eb-b0fa-4e0c-92d0-b806907c0105"
      },
      "execution_count": null,
      "outputs": [
        {
          "output_type": "display_data",
          "data": {
            "text/plain": [
              "<Figure size 640x480 with 1 Axes>"
            ],
            "image/png": "[encoded data removed]"
          },
          "metadata": {}
        }
      ]
    },
    {
      "cell_type": "markdown",
      "source": [
        "### **Exercise 2**\n",
        "- the area of the triangle formed by vectors $\\vec{a}=[2,1]$\n",
        "  $$ Area_t = \\frac{1}{2} \\left| \\det \\begin{bmatrix} 2 & 1 \\\\ -1 & 1 \\end{bmatrix} \\right| $$\n",
        "- Computing the determinant:\n",
        "  $$ \\det \\begin{bmatrix} 2 & 1 \\\\ -1 & 1 \\end{bmatrix} = (2)(1) - (1)(-1) = 2 + 1 = 3 $$\n",
        "-\n",
        "  $$ Area_t = \\frac{1}{2} \\cdot 3 = 1.5 $$"
      ],
      "metadata": {
        "id": "vFt5tMeSfQIm"
      }
    },
    {
      "cell_type": "markdown",
      "source": [
        "### **Exercise 3**\n",
        "- the cross product:\n",
        "  $$ \\vec{b} \\times \\vec{c} = \\begin{bmatrix} -1 \\\\ 1 \\\\ 0 \\end{bmatrix} \\times \\begin{bmatrix} 1 \\\\ 2 \\\\ 0 \\end{bmatrix} = \\begin{bmatrix} (1 \\cdot 0) - (0 \\cdot 2) \\\\ (0 \\cdot 1) - (0 \\cdot -1) \\\\ (-1 \\cdot 2) - (1 \\cdot 1) \\end{bmatrix} = \\begin{bmatrix} 0 \\\\ 0 \\\\ -3 \\end{bmatrix} $$\n",
        "- the dot product:\n",
        "  $$ \\vec{a} \\cdot (\\vec{b} \\times \\vec{c}) = \\begin{bmatrix} 2 \\\\ 1 \\\\ 0 \\end{bmatrix} \\cdot \\begin{bmatrix} 0 \\\\ 0 \\\\ -3 \\end{bmatrix} = (2 \\cdot 0) + (1 \\cdot 0) + (0 \\cdot -3) = 0 $$\n",
        "- The volume is:\n",
        "  $$ V = |\\vec{a} \\cdot (\\vec{b} \\times \\vec{c})| = |0| = 0 $$"
      ],
      "metadata": {
        "id": "FbOD7fygfmtq"
      }
    },
    {
      "cell_type": "markdown",
      "source": [
        "\n",
        "### **Exercise 4**\n",
        "-  the dot product of $\\vec{a}$ and $\\vec{b}$:\n",
        "  $$ \\vec{a} \\cdot \\vec{b} = [2, 1] \\cdot [-1, 1] = (2 \\cdot -1) + (1 \\cdot 1) = -2 + 1 = -1 $$\n",
        "- $\\vec{a} \\cdot \\vec{b} \\neq 0$, the vectors are not perpendicular."
      ],
      "metadata": {
        "id": "7naHFDwef5KF"
      }
    },
    {
      "cell_type": "markdown",
      "source": [
        "### **Exercise 5**\n",
        "  $$ \\cos(\\theta) = \\frac{\\vec{u} \\cdot \\vec{v}}{|\\vec{u}| |\\vec{v}|} $$\n",
        " the dot product:\n",
        "  $$ \\vec{u} \\cdot \\vec{v} = (4)(1) + (2)(3) + (1)(2) = 4 + 6 + 2 = 12 $$\n",
        " the magnitudes:\n",
        "  $$ |\\vec{u}| = \\sqrt{(4)^2 + (2)^2 + (1)^2} = \\sqrt{16 + 4 + 1} = \\sqrt{21} $$\n",
        "  $$ |\\vec{v}| = \\sqrt{(1)^2 + (3)^2 + (2)^2} = \\sqrt{1 + 9 + 4} = \\sqrt{14} $$\n",
        " substituting into the formula:\n",
        "  $$ \\cos(\\theta) = \\frac{12}{\\sqrt{21} \\cdot \\sqrt{14}} = \\frac{12}{\\sqrt{294}} \\approx \\frac{12}{17.146} \\approx 0.700 $$\n",
        "  the angle:\n",
        "  $$ \\theta = \\cos^{-1}(0.700) \\approx 45.57^\\circ $$\n",
        "\n",
        "---\n",
        "\n",
        "### **Exercise 6**\n",
        "\n",
        "#### **first stage**: Compute $\\mathbf{b} \\times \\mathbf{c}$\n",
        " Using the determinant formula:\n",
        "  $$ \\mathbf{b} \\times \\mathbf{c} = \\begin{vmatrix}\n",
        "  \\hat{i} & \\hat{j} & \\hat{k} \\\\\n",
        "  b_x & b_y & b_z \\\\\n",
        "  c_x & c_y & c_z\n",
        "  \\end{vmatrix} = (b_y c_z - b_z c_y) \\hat{i} - (b_x c_z - b_z c_x) \\hat{j} + (b_x c_y - b_y c_x) \\hat{k} $$\n",
        "\n",
        "#### **second stage**: Compute $\\mathbf{a} \\times (\\mathbf{b} \\times \\mathbf{c})$\n",
        " Substituting $\\mathbf{b} \\times \\mathbf{c}$ into:\n",
        "  $$ \\mathbf{a} \\times (\\mathbf{b} \\times \\mathbf{c}) = \\begin{vmatrix}\n",
        "  \\hat{i} & \\hat{j} & \\hat{k} \\\\\n",
        "  a_x & a_y & a_z \\\\\n",
        "  (b_y c_z - b_z c_y) & -(b_x c_z - b_z c_x) & (b_x c_y - b_y c_x)\n",
        "  \\end{vmatrix} $$\n",
        "\n",
        "#### **last stage**: Compute $(\\mathbf{a} \\cdot \\mathbf{c}) \\mathbf{b} - (\\mathbf{a} \\cdot \\mathbf{b}) \\mathbf{c}$\n",
        " computing the dot products:\n",
        "  $$ \\mathbf{a} \\cdot \\mathbf{c} = a_x c_x + a_y c_y + a_z c_z $$\n",
        "  $$ \\mathbf{a} \\cdot \\mathbf{b} = a_x b_x + a_y b_y + a_z b_z $$\n",
        " computing the scaled vectors:\n",
        "  $$ (\\mathbf{a} \\cdot \\mathbf{c}) \\mathbf{b} = (a_x c_x + a_y c_y + a_z c_z) [b_x, b_y, b_z] $$\n",
        "  $$ (\\mathbf{a} \\cdot \\mathbf{b}) \\mathbf{c} = (a_x b_x + a_y b_y + a_z b_z) [c_x, c_y, c_z] $$\n",
        "\n",
        "\n",
        "So the identity:\n",
        "  $$ \\mathbf{a} \\times (\\mathbf{b} \\times \\mathbf{c}) = (\\mathbf{a} \\cdot \\mathbf{c}) \\mathbf{b} - (\\mathbf{a} \\cdot \\mathbf{b}) \\mathbf{c} $$\n",
        "  is verified.\n"
      ],
      "metadata": {
        "id": "2o94M8SMgt6u"
      }
    }
  ],
  "metadata": {
    "kernelspec": {
      "display_name": "Python 3 (ipykernel)",
      "language": "python",
      "name": "python3",
      "path": "/media/dch/Disk2/Vizja/Math-2024-25-Winter/.venv/share/jupyter/kernels/python3"
    },
    "colab": {
      "provenance": [],
      "include_colab_link": true
    }
  },
  "nbformat": 4,
  "nbformat_minor": 0
}